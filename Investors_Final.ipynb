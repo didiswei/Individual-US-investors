{
 "cells": [
  {
   "cell_type": "markdown",
   "metadata": {},
   "source": [
    "# Individual Investors in the US stock market\n",
    "\n",
    "## Motivation\n",
    "\n",
    "With the rise of easy app-based trading, the individual investor is reshaping the U.S. stockmarket. According to the [Wall Street Journal](https://www.wsj.com/articles/individual-investor-boom-reshapes-u-s-stock-market-11598866200?mod=itp_wsj&yptr=yahoo), during the first half of 2020, individual investor shares traded in the U.S. stock market jumped from 14.9% to 19.5%, and in 2019 the total value of stocks traded in the U.S. was about 23 trillion dollars according to the [World Bank](https://data.worldbank.org/indicator/CM.MKT.TRAD.CD?end=2019&locations=US&start=1984&view=chart). Its in the interest of any brokerage company to identify the primary demographics of people who are most likely to invest their money, so they can identify likely customers and gain a larger share of this fast-growing segment of the financial market. \n",
    "\n",
    "## Methodology\n",
    "\n",
    "Here we use demographic data of financial investors to build both a logistic regression and KNearestNeighbors model to understand and identify investors and non-investors. This model is then used to predict the likelihood of investment for a number of test cases. Regression is also used to identify the most important demographic characteristics in identifying potential investors.    \n",
    "\n",
    "## Impact\n",
    "\n",
    "Given the portion of investors vs. non-investors found in our representative data set, if we try to blindly identify potential investors we have about a 65% possibility of success. Using the model built here, using a few demographic characteristics, we are able to correctly identify someone as an investor or a non-investor with an 83% accuracy rate. "
   ]
  },
  {
   "cell_type": "markdown",
   "metadata": {},
   "source": [
    "# Introduction of the data set"
   ]
  },
  {
   "cell_type": "markdown",
   "metadata": {},
   "source": [
    "The data set comes from a survey done by the RAND American Life Panel, which conducts nationally representative probability-based surveys and provides many of the data sets free of charge to the public:\n",
    "\n",
    "https://alpdata.rand.org/index.php?page=data&p=showsurvey&syid=465\n",
    "\n",
    "The survey was done in the field from 2016-12-14 until 2016-12-27 and was comissioned by James J. Choi (Yale University) and Adriana Z. Robertson (University of Toronto) and was published in 2020 in their paper titled \"What Matters to Individual Investors? Evidence from the Horse’s Mouth\" in the Journal of Finance. The full text of the paper can be found here: \n",
    "\n",
    "https://spinup-000d1a-wp-offload-media.s3.amazonaws.com/faculty/wp-content/uploads/sites/27/2019/09/Horses-mouth-2019.09.29.pdf\n",
    "\n",
    "The survey asked 1,013 U.S. individuals how well leading academic theories describe their perspective on their finances. Here in this project, we disregard most of the main survey questions and instead focus on the demographic information, in order to see if we can build a model that can predict the kind of people who invest their money in the stock market and those who do not based only on demographic characteristics."
   ]
  },
  {
   "cell_type": "markdown",
   "metadata": {},
   "source": [
    "# Description of variables and exploratory data analysis"
   ]
  },
  {
   "cell_type": "markdown",
   "metadata": {},
   "source": [
    "We first import the necessary libraries, import the data, and examine it in its raw form."
   ]
  },
  {
   "cell_type": "code",
   "execution_count": 1,
   "metadata": {},
   "outputs": [],
   "source": [
    "import pandas as pd\n",
    "import numpy as np  \n",
    "import matplotlib.pyplot as plt \n",
    "import seaborn as sns\n",
    "from scipy import stats \n",
    "\n",
    "%matplotlib inline"
   ]
  },
  {
   "cell_type": "code",
   "execution_count": 2,
   "metadata": {},
   "outputs": [
    {
     "data": {
      "text/html": [
       "<div>\n",
       "<style scoped>\n",
       "    .dataframe tbody tr th:only-of-type {\n",
       "        vertical-align: middle;\n",
       "    }\n",
       "\n",
       "    .dataframe tbody tr th {\n",
       "        vertical-align: top;\n",
       "    }\n",
       "\n",
       "    .dataframe thead th {\n",
       "        text-align: right;\n",
       "    }\n",
       "</style>\n",
       "<table border=\"1\" class=\"dataframe\">\n",
       "  <thead>\n",
       "    <tr style=\"text-align: right;\">\n",
       "      <th></th>\n",
       "      <th>prim_key</th>\n",
       "      <th>tsstart</th>\n",
       "      <th>tsend</th>\n",
       "      <th>consent</th>\n",
       "      <th>gender</th>\n",
       "      <th>calcage</th>\n",
       "      <th>birthyear</th>\n",
       "      <th>currentlivingsituation</th>\n",
       "      <th>borninus</th>\n",
       "      <th>stateborn</th>\n",
       "      <th>...</th>\n",
       "      <th>iii_b_4</th>\n",
       "      <th>iii_b_5</th>\n",
       "      <th>iii_b_6</th>\n",
       "      <th>iv_a</th>\n",
       "      <th>iv_a_1</th>\n",
       "      <th>iv_a_2</th>\n",
       "      <th>iv_b_1</th>\n",
       "      <th>iv_b_2</th>\n",
       "      <th>cs_001</th>\n",
       "      <th>weight</th>\n",
       "    </tr>\n",
       "  </thead>\n",
       "  <tbody>\n",
       "    <tr>\n",
       "      <th>0</th>\n",
       "      <td>10027497:1</td>\n",
       "      <td>2016-12-14 17:26:57</td>\n",
       "      <td>2016-12-14 17:55:21</td>\n",
       "      <td>1.0</td>\n",
       "      <td>2</td>\n",
       "      <td>57</td>\n",
       "      <td>59</td>\n",
       "      <td>1</td>\n",
       "      <td>1</td>\n",
       "      <td>32.0</td>\n",
       "      <td>...</td>\n",
       "      <td>2.0</td>\n",
       "      <td>4.0</td>\n",
       "      <td>4.0</td>\n",
       "      <td>2.0</td>\n",
       "      <td>3.0</td>\n",
       "      <td>3.0</td>\n",
       "      <td>1.0</td>\n",
       "      <td>4.0</td>\n",
       "      <td>2.0</td>\n",
       "      <td>0.298804</td>\n",
       "    </tr>\n",
       "    <tr>\n",
       "      <th>1</th>\n",
       "      <td>10027500:1</td>\n",
       "      <td>2016-12-14 21:10:31</td>\n",
       "      <td>2016-12-14 21:28:09</td>\n",
       "      <td>1.0</td>\n",
       "      <td>1</td>\n",
       "      <td>54</td>\n",
       "      <td>62</td>\n",
       "      <td>3</td>\n",
       "      <td>1</td>\n",
       "      <td>48.0</td>\n",
       "      <td>...</td>\n",
       "      <td>3.0</td>\n",
       "      <td>3.0</td>\n",
       "      <td>4.0</td>\n",
       "      <td>4.0</td>\n",
       "      <td>1.0</td>\n",
       "      <td>3.0</td>\n",
       "      <td>2.0</td>\n",
       "      <td>2.0</td>\n",
       "      <td>2.0</td>\n",
       "      <td>1.952258</td>\n",
       "    </tr>\n",
       "    <tr>\n",
       "      <th>2</th>\n",
       "      <td>10027504:1</td>\n",
       "      <td>2016-12-19 15:38:03</td>\n",
       "      <td>2016-12-19 15:45:32</td>\n",
       "      <td>1.0</td>\n",
       "      <td>1</td>\n",
       "      <td>37</td>\n",
       "      <td>79</td>\n",
       "      <td>1</td>\n",
       "      <td>1</td>\n",
       "      <td>8.0</td>\n",
       "      <td>...</td>\n",
       "      <td>NaN</td>\n",
       "      <td>3.0</td>\n",
       "      <td>3.0</td>\n",
       "      <td>1.0</td>\n",
       "      <td>4.0</td>\n",
       "      <td>4.0</td>\n",
       "      <td>4.0</td>\n",
       "      <td>4.0</td>\n",
       "      <td>3.0</td>\n",
       "      <td>1.931925</td>\n",
       "    </tr>\n",
       "    <tr>\n",
       "      <th>3</th>\n",
       "      <td>10027513:1</td>\n",
       "      <td>2016-12-16 21:33:52</td>\n",
       "      <td>2016-12-16 21:51:25</td>\n",
       "      <td>1.0</td>\n",
       "      <td>1</td>\n",
       "      <td>66</td>\n",
       "      <td>49</td>\n",
       "      <td>1</td>\n",
       "      <td>1</td>\n",
       "      <td>21.0</td>\n",
       "      <td>...</td>\n",
       "      <td>2.0</td>\n",
       "      <td>4.0</td>\n",
       "      <td>3.0</td>\n",
       "      <td>2.0</td>\n",
       "      <td>2.0</td>\n",
       "      <td>3.0</td>\n",
       "      <td>1.0</td>\n",
       "      <td>1.0</td>\n",
       "      <td>1.0</td>\n",
       "      <td>0.316861</td>\n",
       "    </tr>\n",
       "    <tr>\n",
       "      <th>4</th>\n",
       "      <td>10027517:1</td>\n",
       "      <td>2016-12-20 12:50:28</td>\n",
       "      <td>2016-12-20 13:17:27</td>\n",
       "      <td>1.0</td>\n",
       "      <td>1</td>\n",
       "      <td>55</td>\n",
       "      <td>61</td>\n",
       "      <td>1</td>\n",
       "      <td>1</td>\n",
       "      <td>30.0</td>\n",
       "      <td>...</td>\n",
       "      <td>NaN</td>\n",
       "      <td>2.0</td>\n",
       "      <td>4.0</td>\n",
       "      <td>4.0</td>\n",
       "      <td>3.0</td>\n",
       "      <td>1.0</td>\n",
       "      <td>3.0</td>\n",
       "      <td>3.0</td>\n",
       "      <td>2.0</td>\n",
       "      <td>0.359180</td>\n",
       "    </tr>\n",
       "  </tbody>\n",
       "</table>\n",
       "<p>5 rows × 123 columns</p>\n",
       "</div>"
      ],
      "text/plain": [
       "     prim_key              tsstart                tsend  consent  gender  \\\n",
       "0  10027497:1  2016-12-14 17:26:57  2016-12-14 17:55:21      1.0       2   \n",
       "1  10027500:1  2016-12-14 21:10:31  2016-12-14 21:28:09      1.0       1   \n",
       "2  10027504:1  2016-12-19 15:38:03  2016-12-19 15:45:32      1.0       1   \n",
       "3  10027513:1  2016-12-16 21:33:52  2016-12-16 21:51:25      1.0       1   \n",
       "4  10027517:1  2016-12-20 12:50:28  2016-12-20 13:17:27      1.0       1   \n",
       "\n",
       "   calcage  birthyear  currentlivingsituation  borninus  stateborn  ...  \\\n",
       "0       57         59                       1         1       32.0  ...   \n",
       "1       54         62                       3         1       48.0  ...   \n",
       "2       37         79                       1         1        8.0  ...   \n",
       "3       66         49                       1         1       21.0  ...   \n",
       "4       55         61                       1         1       30.0  ...   \n",
       "\n",
       "   iii_b_4  iii_b_5  iii_b_6  iv_a  iv_a_1  iv_a_2  iv_b_1  iv_b_2  cs_001  \\\n",
       "0      2.0      4.0      4.0   2.0     3.0     3.0     1.0     4.0     2.0   \n",
       "1      3.0      3.0      4.0   4.0     1.0     3.0     2.0     2.0     2.0   \n",
       "2      NaN      3.0      3.0   1.0     4.0     4.0     4.0     4.0     3.0   \n",
       "3      2.0      4.0      3.0   2.0     2.0     3.0     1.0     1.0     1.0   \n",
       "4      NaN      2.0      4.0   4.0     3.0     1.0     3.0     3.0     2.0   \n",
       "\n",
       "     weight  \n",
       "0  0.298804  \n",
       "1  1.952258  \n",
       "2  1.931925  \n",
       "3  0.316861  \n",
       "4  0.359180  \n",
       "\n",
       "[5 rows x 123 columns]"
      ]
     },
     "execution_count": 2,
     "metadata": {},
     "output_type": "execute_result"
    }
   ],
   "source": [
    "df_raw = pd.io.stata.read_stata('investors.dta')\n",
    "df_raw.head()"
   ]
  },
  {
   "cell_type": "code",
   "execution_count": 3,
   "metadata": {},
   "outputs": [
    {
     "name": "stdout",
     "output_type": "stream",
     "text": [
      "<class 'pandas.core.frame.DataFrame'>\n",
      "Int64Index: 1255 entries, 0 to 1254\n",
      "Columns: 123 entries, prim_key to weight\n",
      "dtypes: float32(1), float64(106), int8(12), object(4)\n",
      "memory usage: 1.1+ MB\n"
     ]
    }
   ],
   "source": [
    "df_raw.info()"
   ]
  },
  {
   "cell_type": "markdown",
   "metadata": {},
   "source": [
    "There are a large number of columns, where the meaning of the labels can be found in the file *'labels_clean.xlsx'* and all questions can be found at the ALP website:\n",
    "https://alpdata.rand.org/index.php?page=data&p=showsurvey&syid=465 \n",
    "\n",
    "Since we are only interested in demographic information, or characteristics of the survey participant (and not their perspective on finance) we can manually select the relevant demographic columns. These are the following:\n",
    "\n",
    "- **gender** ('What is your gender'): 1 - Male, 2 - Female\n",
    "\n",
    "- **calcage** ('What is your age'): Integer\n",
    "\n",
    "- **currentlivingsituation** ('Could you tell us what your current living situation is?'): 1 - Married or living with a partner, 2 - Separated, 3 - Divorced, 4 - Widowed, 5 - Never married\n",
    "\n",
    "- **borninus** (Were you born in the United States?): 1 - Yes, 2 - No\n",
    "\n",
    "- **familyincome** ('Which category represents the total combined income of all members of your family (living here) during the past 12 months? This includes money from jobs, net income from business, farm or rent, pensions, dividends, interest, social security payments and any other money income received by members of your family who are 15 years of age or older.'): 1 - Less than \\\\$5,000, 2 - \\\\$5,000 to \\\\$7,499, 3 - \\\\$7,500 to \\\\$9,999, 4 - \\\\$10,000 to \\\\$12,499, 5 - \\\\$12,500 to \\\\$14,999, 6 - \\\\$15,000 to \\\\$19,999, 7 - \\\\$20,000 to \\\\$24,999, 8 - \\\\$25,000 to \\\\$29,999, 9 - \\\\$30,000 to \\\\$34,999, 10 - \\\\$35,000 to \\\\$39,999, 11 - \\\\$40,000 to \\\\$49,999, 12 - \\\\$50,000 to \\\\$59,999, 13 - \\\\$60,000 to \\\\$74,999, 14 - \\\\$75,000 or more\n",
    "\n",
    "- **highesteducation** ('What is the highest level of school you have completed or the highest degree you have received?): 1 - Less than 1st grade, 2 - 1st, 2nd , 3rd, or 4th grade, 3 5th or 6th grade, 4 - 7th or 8th grade, 5 - 9th grade, 6 - 10th grade, 7 - 11th grade, 8 - 12th grade NO DIPLOMA, 9 - HIGH SCHOOL GRADUATE high school DIPLOMA or the equivalent (For example: GED), 10 - Some college but no degree, 11 - Associate degree in college Occupational/vocational program, 12 - Associate degree in college Academic program, 13 - Bachelor's degree (For example: BA,AB,BS), 14 - Master's degree (For example: MA,MS,MEng,MEd,MSW,MBA), 15 - Professional School Degree (For example: MD,DDS,DVM,LLB,JD), 16 - Doctorate degree (For example: PhD,EdD)\n",
    "\n",
    "- **doyouwork** ('Do you work for someone else, are you self-employed, or what?'): 1 - Work for someone else, 2 - Self-employed, 3 - Other\n",
    "\n",
    "- **ethnicity** ('Do you consider yourself primarily white or Caucasian, Black or African American, American Indian, or Asian?'): 1 - White/Caucasian, 2 - Black/African American, 3 - American Indian or Alaskan Native, 4 - Asian or Pacific Islander, 5 - Other\n",
    "\n",
    "Note: some redundant variables are ignored. For instance **currentjobstatus** gives the same information as **doyouwork**.\n",
    "\n",
    "***\n",
    "\n",
    "We also extract the dependent variable we are interested in: \n",
    "\n",
    "- **pct_today** (\"What percentage of your investable financial assets is currently invested in stocks, either directly or through mutual funds?\"): Real number\n",
    "\n",
    "The answers are given in percentage values, but since we are primarily interested in the question of whether someone decides to participate in the stock market or not, we will change this variable to a binary value: '0' for 'does not participate and '1' for 'participates\n",
    "\n",
    "***\n",
    "\n",
    "There is also a variable we would like to filter by:\n",
    "\n",
    "- **consent** (Please indicate whether you would like to participate in this study.): 1 - Yes, I would like to participate in this study, 2 - No, I would not like to participate in this study.\n",
    "    - We make sure all the participants we are looking at have consented to the study. I don't actually know why there are answers from non-consenting participants, but perhaps this helps to filter out people who did not read the instructions very well. \n"
   ]
  },
  {
   "cell_type": "code",
   "execution_count": 4,
   "metadata": {},
   "outputs": [
    {
     "data": {
      "text/plain": [
       "1.0    1202\n",
       "2.0      33\n",
       "Name: consent, dtype: int64"
      ]
     },
     "execution_count": 4,
     "metadata": {},
     "output_type": "execute_result"
    }
   ],
   "source": [
    "# For some reason there are 86 people who did not consent to the survey, but still filled out the survey.\n",
    "df_raw.consent.value_counts()"
   ]
  },
  {
   "cell_type": "code",
   "execution_count": 5,
   "metadata": {},
   "outputs": [
    {
     "data": {
      "text/plain": [
       "1.0    1202\n",
       "Name: consent, dtype: int64"
      ]
     },
     "execution_count": 5,
     "metadata": {},
     "output_type": "execute_result"
    }
   ],
   "source": [
    "# Let's look at only consenting participants.\n",
    "df_raw = df_raw[df_raw.consent == 1.0]\n",
    "df_raw.consent.value_counts()"
   ]
  },
  {
   "cell_type": "code",
   "execution_count": 6,
   "metadata": {},
   "outputs": [
    {
     "data": {
      "text/html": [
       "<div>\n",
       "<style scoped>\n",
       "    .dataframe tbody tr th:only-of-type {\n",
       "        vertical-align: middle;\n",
       "    }\n",
       "\n",
       "    .dataframe tbody tr th {\n",
       "        vertical-align: top;\n",
       "    }\n",
       "\n",
       "    .dataframe thead th {\n",
       "        text-align: right;\n",
       "    }\n",
       "</style>\n",
       "<table border=\"1\" class=\"dataframe\">\n",
       "  <thead>\n",
       "    <tr style=\"text-align: right;\">\n",
       "      <th></th>\n",
       "      <th>gender</th>\n",
       "      <th>calcage</th>\n",
       "      <th>currentlivingsituation</th>\n",
       "      <th>borninus</th>\n",
       "      <th>familyincome</th>\n",
       "      <th>highesteducation</th>\n",
       "      <th>doyouwork</th>\n",
       "      <th>ethnicity</th>\n",
       "      <th>pct_today</th>\n",
       "    </tr>\n",
       "  </thead>\n",
       "  <tbody>\n",
       "    <tr>\n",
       "      <th>0</th>\n",
       "      <td>2</td>\n",
       "      <td>57</td>\n",
       "      <td>1</td>\n",
       "      <td>1</td>\n",
       "      <td>14.0</td>\n",
       "      <td>13</td>\n",
       "      <td>1.0</td>\n",
       "      <td>1.0</td>\n",
       "      <td>50.0</td>\n",
       "    </tr>\n",
       "    <tr>\n",
       "      <th>1</th>\n",
       "      <td>1</td>\n",
       "      <td>54</td>\n",
       "      <td>3</td>\n",
       "      <td>1</td>\n",
       "      <td>11.0</td>\n",
       "      <td>9</td>\n",
       "      <td>1.0</td>\n",
       "      <td>1.0</td>\n",
       "      <td>5.0</td>\n",
       "    </tr>\n",
       "    <tr>\n",
       "      <th>2</th>\n",
       "      <td>1</td>\n",
       "      <td>37</td>\n",
       "      <td>1</td>\n",
       "      <td>1</td>\n",
       "      <td>13.0</td>\n",
       "      <td>10</td>\n",
       "      <td>1.0</td>\n",
       "      <td>1.0</td>\n",
       "      <td>10.0</td>\n",
       "    </tr>\n",
       "    <tr>\n",
       "      <th>3</th>\n",
       "      <td>1</td>\n",
       "      <td>66</td>\n",
       "      <td>1</td>\n",
       "      <td>1</td>\n",
       "      <td>14.0</td>\n",
       "      <td>13</td>\n",
       "      <td>1.0</td>\n",
       "      <td>1.0</td>\n",
       "      <td>60.0</td>\n",
       "    </tr>\n",
       "    <tr>\n",
       "      <th>4</th>\n",
       "      <td>1</td>\n",
       "      <td>55</td>\n",
       "      <td>1</td>\n",
       "      <td>1</td>\n",
       "      <td>14.0</td>\n",
       "      <td>10</td>\n",
       "      <td>1.0</td>\n",
       "      <td>1.0</td>\n",
       "      <td>85.0</td>\n",
       "    </tr>\n",
       "  </tbody>\n",
       "</table>\n",
       "</div>"
      ],
      "text/plain": [
       "   gender  calcage  currentlivingsituation  borninus  familyincome  \\\n",
       "0       2       57                       1         1          14.0   \n",
       "1       1       54                       3         1          11.0   \n",
       "2       1       37                       1         1          13.0   \n",
       "3       1       66                       1         1          14.0   \n",
       "4       1       55                       1         1          14.0   \n",
       "\n",
       "   highesteducation  doyouwork  ethnicity  pct_today  \n",
       "0                13        1.0        1.0       50.0  \n",
       "1                 9        1.0        1.0        5.0  \n",
       "2                10        1.0        1.0       10.0  \n",
       "3                13        1.0        1.0       60.0  \n",
       "4                10        1.0        1.0       85.0  "
      ]
     },
     "execution_count": 6,
     "metadata": {},
     "output_type": "execute_result"
    }
   ],
   "source": [
    "#Filter to only relevant variables\n",
    "df=df_raw.loc[:,['gender','calcage','currentlivingsituation','borninus',\n",
    "                 'familyincome', 'highesteducation','doyouwork','ethnicity','pct_today']]\n",
    "df.head()"
   ]
  },
  {
   "cell_type": "code",
   "execution_count": 7,
   "metadata": {},
   "outputs": [
    {
     "data": {
      "text/plain": [
       "99109992.0    1\n",
       "5000.0        1\n",
       "35000.0       1\n",
       "2000000.0     1\n",
       "Name: pct_today, dtype: int64"
      ]
     },
     "execution_count": 7,
     "metadata": {},
     "output_type": "execute_result"
    }
   ],
   "source": [
    "# Let's first look at the dependent variable, pct_today. There are a number of pct_values that are greater than 100. \n",
    "df[df.pct_today > 100].pct_today.value_counts()"
   ]
  },
  {
   "cell_type": "code",
   "execution_count": 8,
   "metadata": {},
   "outputs": [],
   "source": [
    "# Since there is no explanation for how someone can invest more than 100 percent of their finances, we filter these out. \n",
    "df = df[df.pct_today <= 100]"
   ]
  },
  {
   "cell_type": "code",
   "execution_count": 9,
   "metadata": {},
   "outputs": [
    {
     "data": {
      "text/plain": [
       "1.0    708\n",
       "0.0    377\n",
       "Name: pct_today, dtype: int64"
      ]
     },
     "execution_count": 9,
     "metadata": {},
     "output_type": "execute_result"
    }
   ],
   "source": [
    "# Here we relabel pct_today to be a binary variabel\n",
    "df.loc[df.pct_today > 0,'pct_today'] = 1\n",
    "df.pct_today.value_counts()"
   ]
  },
  {
   "cell_type": "code",
   "execution_count": 10,
   "metadata": {},
   "outputs": [],
   "source": [
    "### Let's also check how many null values there are in each column"
   ]
  },
  {
   "cell_type": "code",
   "execution_count": 11,
   "metadata": {},
   "outputs": [
    {
     "name": "stdout",
     "output_type": "stream",
     "text": [
      "<class 'pandas.core.frame.DataFrame'>\n",
      "Int64Index: 1085 entries, 0 to 1254\n",
      "Data columns (total 9 columns):\n",
      " #   Column                  Non-Null Count  Dtype  \n",
      "---  ------                  --------------  -----  \n",
      " 0   gender                  1085 non-null   int8   \n",
      " 1   calcage                 1085 non-null   int8   \n",
      " 2   currentlivingsituation  1085 non-null   int8   \n",
      " 3   borninus                1085 non-null   int8   \n",
      " 4   familyincome            1081 non-null   float64\n",
      " 5   highesteducation        1085 non-null   int8   \n",
      " 6   doyouwork               770 non-null    float64\n",
      " 7   ethnicity               1084 non-null   float64\n",
      " 8   pct_today               1085 non-null   float32\n",
      "dtypes: float32(1), float64(3), int8(5)\n",
      "memory usage: 43.4 KB\n"
     ]
    }
   ],
   "source": [
    "df.info()"
   ]
  },
  {
   "cell_type": "markdown",
   "metadata": {},
   "source": [
    "There are quite a few **null** values and **pct_today** values. We will deal with those when we do feature engineering. "
   ]
  },
  {
   "cell_type": "markdown",
   "metadata": {},
   "source": [
    " ## Plotting the dependencies of the variables. "
   ]
  },
  {
   "cell_type": "markdown",
   "metadata": {},
   "source": [
    "First we examine the variables where the numerical value has some meaning and plot pairwise plots with the color scheme dictated by **pct_today**"
   ]
  },
  {
   "cell_type": "code",
   "execution_count": 12,
   "metadata": {},
   "outputs": [
    {
     "data": {
      "text/plain": [
       "<seaborn.axisgrid.PairGrid at 0x123b985e0>"
      ]
     },
     "execution_count": 12,
     "metadata": {},
     "output_type": "execute_result"
    },
    {
     "data": {
      "image/png": "[encoded data removed]",
      "text/plain": [
       "<Figure size 596.875x540 with 12 Axes>"
      ]
     },
     "metadata": {
      "needs_background": "light"
     },
     "output_type": "display_data"
    }
   ],
   "source": [
    "columns = ['calcage','familyincome','highesteducation']\n",
    "\n",
    "sns.pairplot(df,x_vars = columns, y_vars = columns, hue = 'pct_today')"
   ]
  },
  {
   "cell_type": "markdown",
   "metadata": {},
   "source": [
    "It definitely looks like **familyincome** and **highesteducation** really affect the percentage of people who invest, with some effect from **calcage**. There does look like there is a distinction between pct_today in a few of the pairwise plots. "
   ]
  },
  {
   "cell_type": "markdown",
   "metadata": {},
   "source": [
    "Let's now examine the categorical variables using bar charts. "
   ]
  },
  {
   "cell_type": "code",
   "execution_count": 13,
   "metadata": {},
   "outputs": [
    {
     "data": {
      "text/plain": [
       "Text(0.5, 0.98, 'All categorical variables')"
      ]
     },
     "execution_count": 13,
     "metadata": {},
     "output_type": "execute_result"
    },
    {
     "data": {
      "image/png": "[encoded data removed]",
      "text/plain": [
       "<Figure size 720x720 with 6 Axes>"
      ]
     },
     "metadata": {
      "needs_background": "light"
     },
     "output_type": "display_data"
    }
   ],
   "source": [
    "fig, ax =plt.subplots(3,2, figsize =(10,10))\n",
    "sns.countplot(x = df['gender'], hue = df['pct_today'], ax=ax[0,0])\n",
    "sns.countplot(x = df['ethnicity'], hue = df['pct_today'], ax=ax[0,1])\n",
    "sns.countplot(x = df['borninus'], hue = df['pct_today'], ax=ax[1,0])\n",
    "sns.countplot(x = df['currentlivingsituation'], hue = df['pct_today'], ax=ax[1,1])\n",
    "sns.countplot(x = df['doyouwork'], hue = df['pct_today'], ax=ax[2,0])\n",
    "sns.countplot(x = df['pct_today'], hue = df['pct_today'], ax=ax[2,1])\n",
    "\n",
    "fig.suptitle('All categorical variables') "
   ]
  },
  {
   "cell_type": "markdown",
   "metadata": {},
   "source": [
    "It seems like there is some effect from gender, borninus, ethnicity, and currentliving situation but these variables will need to be investigated quantitatively and possibly after downsampling. We will return to these later. There is an imbalance of data, with too many 'does invest' outcomes. "
   ]
  },
  {
   "cell_type": "markdown",
   "metadata": {},
   "source": [
    "However, we can see that many of the categorical variables have no effect on **pct_today**, possibily because their numerical values have no meaning. Consequently, the next thing we need to do is some feature engineering. "
   ]
  },
  {
   "cell_type": "markdown",
   "metadata": {},
   "source": [
    "# Feature Engineering"
   ]
  },
  {
   "cell_type": "markdown",
   "metadata": {},
   "source": [
    "First we do a little feature engineering that will be applied no matter the algorithm, and which will not pollute the test set for Cross Validation. This will be to change binary variables to have '0' and '1' values, and to hot-encode categorical variables with more than 2 categories.  "
   ]
  },
  {
   "cell_type": "code",
   "execution_count": 14,
   "metadata": {},
   "outputs": [
    {
     "data": {
      "text/plain": [
       "0    572\n",
       "1    513\n",
       "Name: gender, dtype: int64"
      ]
     },
     "execution_count": 14,
     "metadata": {},
     "output_type": "execute_result"
    }
   ],
   "source": [
    "# Change the binary variable, 'gender' to have '0' or '1' values\n",
    "df.loc[df.gender == 2, 'gender'] = 0\n",
    "df.gender.value_counts()"
   ]
  },
  {
   "cell_type": "code",
   "execution_count": 15,
   "metadata": {},
   "outputs": [
    {
     "data": {
      "text/plain": [
       "1    994\n",
       "0     91\n",
       "Name: borninus, dtype: int64"
      ]
     },
     "execution_count": 15,
     "metadata": {},
     "output_type": "execute_result"
    }
   ],
   "source": [
    "# Change the binary variable, 'borninus' to have '0' or '1' values\n",
    "df.loc[df.borninus == 2, 'borninus'] = 0\n",
    "df.borninus.value_counts()"
   ]
  },
  {
   "cell_type": "code",
   "execution_count": 16,
   "metadata": {},
   "outputs": [
    {
     "data": {
      "text/plain": [
       "1    635\n",
       "3    182\n",
       "5    167\n",
       "4     72\n",
       "2     29\n",
       "Name: currentlivingsituation, dtype: int64"
      ]
     },
     "execution_count": 16,
     "metadata": {},
     "output_type": "execute_result"
    }
   ],
   "source": [
    "# Check out currentlivingsituation (1 - Married or living with a partner, 2 - Separated, 3 - Divorced, 4 - Widowed, 5 - Never married)\n",
    "df.currentlivingsituation.value_counts()\n",
    "# We will only take first 3 columns for statistical analysis otherwise StatModels will not be able to converge. Same with the following variables."
   ]
  },
  {
   "cell_type": "code",
   "execution_count": 17,
   "metadata": {},
   "outputs": [],
   "source": [
    "# Hot encode current living situation \n",
    "df = pd.get_dummies(df, columns = ['currentlivingsituation'])"
   ]
  },
  {
   "cell_type": "code",
   "execution_count": 18,
   "metadata": {},
   "outputs": [
    {
     "data": {
      "text/plain": [
       "1.0    658\n",
       "2.0    100\n",
       "3.0     12\n",
       "Name: doyouwork, dtype: int64"
      ]
     },
     "execution_count": 18,
     "metadata": {},
     "output_type": "execute_result"
    }
   ],
   "source": [
    "df.doyouwork.value_counts()"
   ]
  },
  {
   "cell_type": "code",
   "execution_count": 19,
   "metadata": {},
   "outputs": [],
   "source": [
    "# Hot encode do you work (1 - Work for someone else, 2 - Self-employed, 3 - Other)\n",
    "df = pd.get_dummies(df, columns = ['doyouwork'])"
   ]
  },
  {
   "cell_type": "code",
   "execution_count": 20,
   "metadata": {},
   "outputs": [
    {
     "data": {
      "text/plain": [
       "1.0    889\n",
       "2.0    104\n",
       "5.0     55\n",
       "4.0     25\n",
       "3.0     11\n",
       "Name: ethnicity, dtype: int64"
      ]
     },
     "execution_count": 20,
     "metadata": {},
     "output_type": "execute_result"
    }
   ],
   "source": [
    "df.ethnicity.value_counts()"
   ]
  },
  {
   "cell_type": "code",
   "execution_count": 21,
   "metadata": {},
   "outputs": [],
   "source": [
    "# Hot encode do you ethnicity (1 - White/Caucasian, 2 - Black/African American, 3 - American Indian or Alaskan Native, 4 - Asian or Pacific Islander, 5 - Other)\n",
    "df = pd.get_dummies(df, columns = ['ethnicity'])"
   ]
  },
  {
   "cell_type": "code",
   "execution_count": 22,
   "metadata": {},
   "outputs": [
    {
     "data": {
      "text/plain": [
       "Index(['gender', 'calcage', 'borninus', 'familyincome', 'highesteducation',\n",
       "       'pct_today', 'currentlivingsituation_1', 'currentlivingsituation_2',\n",
       "       'currentlivingsituation_3', 'currentlivingsituation_4',\n",
       "       'currentlivingsituation_5', 'doyouwork_1.0', 'doyouwork_2.0',\n",
       "       'doyouwork_3.0', 'ethnicity_1.0', 'ethnicity_2.0', 'ethnicity_3.0',\n",
       "       'ethnicity_4.0', 'ethnicity_5.0'],\n",
       "      dtype='object')"
      ]
     },
     "execution_count": 22,
     "metadata": {},
     "output_type": "execute_result"
    }
   ],
   "source": [
    "df.columns"
   ]
  },
  {
   "cell_type": "markdown",
   "metadata": {},
   "source": [
    "Here we drop any of the hot-encoded values that are below %10 of the full data set. These will make logistic regression difficult to converge. "
   ]
  },
  {
   "cell_type": "code",
   "execution_count": 23,
   "metadata": {},
   "outputs": [
    {
     "data": {
      "text/html": [
       "<div>\n",
       "<style scoped>\n",
       "    .dataframe tbody tr th:only-of-type {\n",
       "        vertical-align: middle;\n",
       "    }\n",
       "\n",
       "    .dataframe tbody tr th {\n",
       "        vertical-align: top;\n",
       "    }\n",
       "\n",
       "    .dataframe thead th {\n",
       "        text-align: right;\n",
       "    }\n",
       "</style>\n",
       "<table border=\"1\" class=\"dataframe\">\n",
       "  <thead>\n",
       "    <tr style=\"text-align: right;\">\n",
       "      <th></th>\n",
       "      <th>gender</th>\n",
       "      <th>calcage</th>\n",
       "      <th>borninus</th>\n",
       "      <th>familyincome</th>\n",
       "      <th>highesteducation</th>\n",
       "      <th>pct_today</th>\n",
       "      <th>currentlivingsituation_1</th>\n",
       "      <th>currentlivingsituation_3</th>\n",
       "      <th>currentlivingsituation_5</th>\n",
       "      <th>doyouwork_1.0</th>\n",
       "      <th>doyouwork_2.0</th>\n",
       "      <th>ethnicity_1.0</th>\n",
       "      <th>ethnicity_2.0</th>\n",
       "    </tr>\n",
       "  </thead>\n",
       "  <tbody>\n",
       "    <tr>\n",
       "      <th>0</th>\n",
       "      <td>0</td>\n",
       "      <td>57</td>\n",
       "      <td>1</td>\n",
       "      <td>14.0</td>\n",
       "      <td>13</td>\n",
       "      <td>1.0</td>\n",
       "      <td>1</td>\n",
       "      <td>0</td>\n",
       "      <td>0</td>\n",
       "      <td>1</td>\n",
       "      <td>0</td>\n",
       "      <td>1</td>\n",
       "      <td>0</td>\n",
       "    </tr>\n",
       "    <tr>\n",
       "      <th>1</th>\n",
       "      <td>1</td>\n",
       "      <td>54</td>\n",
       "      <td>1</td>\n",
       "      <td>11.0</td>\n",
       "      <td>9</td>\n",
       "      <td>1.0</td>\n",
       "      <td>0</td>\n",
       "      <td>1</td>\n",
       "      <td>0</td>\n",
       "      <td>1</td>\n",
       "      <td>0</td>\n",
       "      <td>1</td>\n",
       "      <td>0</td>\n",
       "    </tr>\n",
       "    <tr>\n",
       "      <th>2</th>\n",
       "      <td>1</td>\n",
       "      <td>37</td>\n",
       "      <td>1</td>\n",
       "      <td>13.0</td>\n",
       "      <td>10</td>\n",
       "      <td>1.0</td>\n",
       "      <td>1</td>\n",
       "      <td>0</td>\n",
       "      <td>0</td>\n",
       "      <td>1</td>\n",
       "      <td>0</td>\n",
       "      <td>1</td>\n",
       "      <td>0</td>\n",
       "    </tr>\n",
       "    <tr>\n",
       "      <th>3</th>\n",
       "      <td>1</td>\n",
       "      <td>66</td>\n",
       "      <td>1</td>\n",
       "      <td>14.0</td>\n",
       "      <td>13</td>\n",
       "      <td>1.0</td>\n",
       "      <td>1</td>\n",
       "      <td>0</td>\n",
       "      <td>0</td>\n",
       "      <td>1</td>\n",
       "      <td>0</td>\n",
       "      <td>1</td>\n",
       "      <td>0</td>\n",
       "    </tr>\n",
       "    <tr>\n",
       "      <th>4</th>\n",
       "      <td>1</td>\n",
       "      <td>55</td>\n",
       "      <td>1</td>\n",
       "      <td>14.0</td>\n",
       "      <td>10</td>\n",
       "      <td>1.0</td>\n",
       "      <td>1</td>\n",
       "      <td>0</td>\n",
       "      <td>0</td>\n",
       "      <td>1</td>\n",
       "      <td>0</td>\n",
       "      <td>1</td>\n",
       "      <td>0</td>\n",
       "    </tr>\n",
       "  </tbody>\n",
       "</table>\n",
       "</div>"
      ],
      "text/plain": [
       "   gender  calcage  borninus  familyincome  highesteducation  pct_today  \\\n",
       "0       0       57         1          14.0                13        1.0   \n",
       "1       1       54         1          11.0                 9        1.0   \n",
       "2       1       37         1          13.0                10        1.0   \n",
       "3       1       66         1          14.0                13        1.0   \n",
       "4       1       55         1          14.0                10        1.0   \n",
       "\n",
       "   currentlivingsituation_1  currentlivingsituation_3  \\\n",
       "0                         1                         0   \n",
       "1                         0                         1   \n",
       "2                         1                         0   \n",
       "3                         1                         0   \n",
       "4                         1                         0   \n",
       "\n",
       "   currentlivingsituation_5  doyouwork_1.0  doyouwork_2.0  ethnicity_1.0  \\\n",
       "0                         0              1              0              1   \n",
       "1                         0              1              0              1   \n",
       "2                         0              1              0              1   \n",
       "3                         0              1              0              1   \n",
       "4                         0              1              0              1   \n",
       "\n",
       "   ethnicity_2.0  \n",
       "0              0  \n",
       "1              0  \n",
       "2              0  \n",
       "3              0  \n",
       "4              0  "
      ]
     },
     "execution_count": 23,
     "metadata": {},
     "output_type": "execute_result"
    }
   ],
   "source": [
    "df_stats = df.drop(['currentlivingsituation_4',\n",
    "       'currentlivingsituation_2','doyouwork_3.0','ethnicity_3.0',\n",
    "       'ethnicity_4.0', 'ethnicity_5.0'],axis = 1)\n",
    "\n",
    "df_stats.head()"
   ]
  },
  {
   "cell_type": "markdown",
   "metadata": {},
   "source": [
    "In order to do linear regression on the model in order to examine which variables to keep, we normalize the data. "
   ]
  },
  {
   "cell_type": "code",
   "execution_count": 24,
   "metadata": {},
   "outputs": [
    {
     "data": {
      "text/html": [
       "<div>\n",
       "<style scoped>\n",
       "    .dataframe tbody tr th:only-of-type {\n",
       "        vertical-align: middle;\n",
       "    }\n",
       "\n",
       "    .dataframe tbody tr th {\n",
       "        vertical-align: top;\n",
       "    }\n",
       "\n",
       "    .dataframe thead th {\n",
       "        text-align: right;\n",
       "    }\n",
       "</style>\n",
       "<table border=\"1\" class=\"dataframe\">\n",
       "  <thead>\n",
       "    <tr style=\"text-align: right;\">\n",
       "      <th></th>\n",
       "      <th>gender</th>\n",
       "      <th>calcage</th>\n",
       "      <th>borninus</th>\n",
       "      <th>familyincome</th>\n",
       "      <th>highesteducation</th>\n",
       "      <th>pct_today</th>\n",
       "      <th>currentlivingsituation_1</th>\n",
       "      <th>currentlivingsituation_3</th>\n",
       "      <th>currentlivingsituation_5</th>\n",
       "      <th>doyouwork_1.0</th>\n",
       "      <th>doyouwork_2.0</th>\n",
       "      <th>ethnicity_1.0</th>\n",
       "      <th>ethnicity_2.0</th>\n",
       "    </tr>\n",
       "  </thead>\n",
       "  <tbody>\n",
       "    <tr>\n",
       "      <th>0</th>\n",
       "      <td>0.0</td>\n",
       "      <td>0.500000</td>\n",
       "      <td>1.0</td>\n",
       "      <td>1.000000</td>\n",
       "      <td>0.769231</td>\n",
       "      <td>1.0</td>\n",
       "      <td>1.0</td>\n",
       "      <td>0.0</td>\n",
       "      <td>0.0</td>\n",
       "      <td>1.0</td>\n",
       "      <td>0.0</td>\n",
       "      <td>1.0</td>\n",
       "      <td>0.0</td>\n",
       "    </tr>\n",
       "    <tr>\n",
       "      <th>1</th>\n",
       "      <td>1.0</td>\n",
       "      <td>0.458333</td>\n",
       "      <td>1.0</td>\n",
       "      <td>0.769231</td>\n",
       "      <td>0.461538</td>\n",
       "      <td>1.0</td>\n",
       "      <td>0.0</td>\n",
       "      <td>1.0</td>\n",
       "      <td>0.0</td>\n",
       "      <td>1.0</td>\n",
       "      <td>0.0</td>\n",
       "      <td>1.0</td>\n",
       "      <td>0.0</td>\n",
       "    </tr>\n",
       "    <tr>\n",
       "      <th>2</th>\n",
       "      <td>1.0</td>\n",
       "      <td>0.222222</td>\n",
       "      <td>1.0</td>\n",
       "      <td>0.923077</td>\n",
       "      <td>0.538462</td>\n",
       "      <td>1.0</td>\n",
       "      <td>1.0</td>\n",
       "      <td>0.0</td>\n",
       "      <td>0.0</td>\n",
       "      <td>1.0</td>\n",
       "      <td>0.0</td>\n",
       "      <td>1.0</td>\n",
       "      <td>0.0</td>\n",
       "    </tr>\n",
       "    <tr>\n",
       "      <th>3</th>\n",
       "      <td>1.0</td>\n",
       "      <td>0.625000</td>\n",
       "      <td>1.0</td>\n",
       "      <td>1.000000</td>\n",
       "      <td>0.769231</td>\n",
       "      <td>1.0</td>\n",
       "      <td>1.0</td>\n",
       "      <td>0.0</td>\n",
       "      <td>0.0</td>\n",
       "      <td>1.0</td>\n",
       "      <td>0.0</td>\n",
       "      <td>1.0</td>\n",
       "      <td>0.0</td>\n",
       "    </tr>\n",
       "    <tr>\n",
       "      <th>4</th>\n",
       "      <td>1.0</td>\n",
       "      <td>0.472222</td>\n",
       "      <td>1.0</td>\n",
       "      <td>1.000000</td>\n",
       "      <td>0.538462</td>\n",
       "      <td>1.0</td>\n",
       "      <td>1.0</td>\n",
       "      <td>0.0</td>\n",
       "      <td>0.0</td>\n",
       "      <td>1.0</td>\n",
       "      <td>0.0</td>\n",
       "      <td>1.0</td>\n",
       "      <td>0.0</td>\n",
       "    </tr>\n",
       "  </tbody>\n",
       "</table>\n",
       "</div>"
      ],
      "text/plain": [
       "   gender   calcage  borninus  familyincome  highesteducation  pct_today  \\\n",
       "0     0.0  0.500000       1.0      1.000000          0.769231        1.0   \n",
       "1     1.0  0.458333       1.0      0.769231          0.461538        1.0   \n",
       "2     1.0  0.222222       1.0      0.923077          0.538462        1.0   \n",
       "3     1.0  0.625000       1.0      1.000000          0.769231        1.0   \n",
       "4     1.0  0.472222       1.0      1.000000          0.538462        1.0   \n",
       "\n",
       "   currentlivingsituation_1  currentlivingsituation_3  \\\n",
       "0                       1.0                       0.0   \n",
       "1                       0.0                       1.0   \n",
       "2                       1.0                       0.0   \n",
       "3                       1.0                       0.0   \n",
       "4                       1.0                       0.0   \n",
       "\n",
       "   currentlivingsituation_5  doyouwork_1.0  doyouwork_2.0  ethnicity_1.0  \\\n",
       "0                       0.0            1.0            0.0            1.0   \n",
       "1                       0.0            1.0            0.0            1.0   \n",
       "2                       0.0            1.0            0.0            1.0   \n",
       "3                       0.0            1.0            0.0            1.0   \n",
       "4                       0.0            1.0            0.0            1.0   \n",
       "\n",
       "   ethnicity_2.0  \n",
       "0            0.0  \n",
       "1            0.0  \n",
       "2            0.0  \n",
       "3            0.0  \n",
       "4            0.0  "
      ]
     },
     "execution_count": 24,
     "metadata": {},
     "output_type": "execute_result"
    }
   ],
   "source": [
    "from sklearn import preprocessing\n",
    "\n",
    "#norm_columns = ['familyincome','calcage','highesteducation']\n",
    "#x = a[norm_columns]\n",
    "#x.info()\n",
    "\n",
    "columns = df_stats.columns\n",
    "\n",
    "x = df_stats\n",
    "min_max_scaler = preprocessing.MinMaxScaler()\n",
    "x_scaled = min_max_scaler.fit_transform(x)\n",
    "df_norm = pd.DataFrame(x_scaled, columns = columns)\n",
    "df_norm.head()"
   ]
  },
  {
   "cell_type": "markdown",
   "metadata": {},
   "source": [
    "# Initial Model Building\n",
    "\n",
    "We first begin with a logistic regression model, which is easily interpretable, robust to overfitting and allows us to identify the most important and least important variables for consideration. "
   ]
  },
  {
   "cell_type": "code",
   "execution_count": 25,
   "metadata": {},
   "outputs": [
    {
     "name": "stdout",
     "output_type": "stream",
     "text": [
      "Accuracy on training set: 0.7844\n",
      "Accuracy on test set: 0.7908\n"
     ]
    }
   ],
   "source": [
    "from sklearn.linear_model import LogisticRegression\n",
    "from sklearn import metrics\n",
    "from sklearn.model_selection import train_test_split\n",
    "\n",
    "df_norm=df_norm.dropna() #drop null values. We can impute values later when we are doing this more rigorously. \n",
    "\n",
    "X = df_norm.loc[:, df_norm.columns != 'pct_today']\n",
    "y = df_norm.loc[:,'pct_today']\n",
    "\n",
    "X_train, X_test, y_train, y_test = train_test_split(X,y, test_size = 0.3, random_state = 0)\n",
    "logreg = LogisticRegression()\n",
    "logreg.fit(X_train, y_train)\n",
    "\n",
    "y_pred = logreg.predict(X_test)\n",
    "print('Accuracy on training set: {:.4f}'.format(logreg.score(X_train, y_train)))\n",
    "print('Accuracy on test set: {:.4f}'.format(logreg.score(X_test, y_test)))"
   ]
  },
  {
   "cell_type": "markdown",
   "metadata": {},
   "source": [
    "We can also look at the ROC curv:"
   ]
  },
  {
   "cell_type": "code",
   "execution_count": 26,
   "metadata": {},
   "outputs": [
    {
     "data": {
      "image/png": "[encoded data removed]",
      "text/plain": [
       "<Figure size 432x288 with 1 Axes>"
      ]
     },
     "metadata": {
      "needs_background": "light"
     },
     "output_type": "display_data"
    }
   ],
   "source": [
    "from sklearn.metrics import roc_auc_score\n",
    "from sklearn.metrics import roc_curve\n",
    "logit_roc_auc = roc_auc_score(y_test, y_pred)\n",
    "fpr, tpr, thresholds = roc_curve(y_test, logreg.predict_proba(X_test)[:,1])\n",
    "plt.figure()\n",
    "plt.plot(fpr, tpr, label='Logistic Regression (area = %0.2f)' % logit_roc_auc)\n",
    "plt.plot([0, 1], [0, 1],'r--')\n",
    "plt.xlim([0.0, 1.0])\n",
    "plt.ylim([0.0, 1.05])\n",
    "plt.xlabel('False Positive Rate')\n",
    "plt.ylabel('True Positive Rate')\n",
    "plt.title('Receiver operating characteristic')\n",
    "plt.legend(loc=\"lower right\")\n",
    "plt.savefig('Log_ROC')\n",
    "plt.show()"
   ]
  },
  {
   "cell_type": "markdown",
   "metadata": {},
   "source": [
    "We also use logistic regression from StatsModels isolate the most important variables"
   ]
  },
  {
   "cell_type": "code",
   "execution_count": 27,
   "metadata": {},
   "outputs": [
    {
     "name": "stdout",
     "output_type": "stream",
     "text": [
      "Optimization terminated successfully.\n",
      "         Current function value: 0.524718\n",
      "         Iterations 6\n"
     ]
    },
    {
     "data": {
      "text/html": [
       "<table class=\"simpletable\">\n",
       "<caption>Logit Regression Results</caption>\n",
       "<tr>\n",
       "  <th>Dep. Variable:</th>       <td>pct_today</td>    <th>  No. Observations:  </th>  <td>  1081</td>  \n",
       "</tr>\n",
       "<tr>\n",
       "  <th>Model:</th>                 <td>Logit</td>      <th>  Df Residuals:      </th>  <td>  1069</td>  \n",
       "</tr>\n",
       "<tr>\n",
       "  <th>Method:</th>                 <td>MLE</td>       <th>  Df Model:          </th>  <td>    11</td>  \n",
       "</tr>\n",
       "<tr>\n",
       "  <th>Date:</th>            <td>Tue, 25 May 2021</td> <th>  Pseudo R-squ.:     </th>  <td>0.1886</td>  \n",
       "</tr>\n",
       "<tr>\n",
       "  <th>Time:</th>                <td>09:26:13</td>     <th>  Log-Likelihood:    </th> <td> -567.22</td> \n",
       "</tr>\n",
       "<tr>\n",
       "  <th>converged:</th>             <td>True</td>       <th>  LL-Null:           </th> <td> -699.05</td> \n",
       "</tr>\n",
       "<tr>\n",
       "  <th>Covariance Type:</th>     <td>nonrobust</td>    <th>  LLR p-value:       </th> <td>3.830e-50</td>\n",
       "</tr>\n",
       "</table>\n",
       "<table class=\"simpletable\">\n",
       "<tr>\n",
       "              <td></td>                <th>coef</th>     <th>std err</th>      <th>z</th>      <th>P>|z|</th>  <th>[0.025</th>    <th>0.975]</th>  \n",
       "</tr>\n",
       "<tr>\n",
       "  <th>gender</th>                   <td>   -0.0571</td> <td>    0.152</td> <td>   -0.376</td> <td> 0.707</td> <td>   -0.355</td> <td>    0.241</td>\n",
       "</tr>\n",
       "<tr>\n",
       "  <th>calcage</th>                  <td>   -0.0470</td> <td>    0.417</td> <td>   -0.113</td> <td> 0.910</td> <td>   -0.865</td> <td>    0.771</td>\n",
       "</tr>\n",
       "<tr>\n",
       "  <th>borninus</th>                 <td>   -0.4408</td> <td>    0.283</td> <td>   -1.559</td> <td> 0.119</td> <td>   -0.995</td> <td>    0.113</td>\n",
       "</tr>\n",
       "<tr>\n",
       "  <th>familyincome</th>             <td>    3.7874</td> <td>    0.363</td> <td>   10.429</td> <td> 0.000</td> <td>    3.076</td> <td>    4.499</td>\n",
       "</tr>\n",
       "<tr>\n",
       "  <th>highesteducation</th>         <td>   -0.3815</td> <td>    0.456</td> <td>   -0.837</td> <td> 0.403</td> <td>   -1.275</td> <td>    0.512</td>\n",
       "</tr>\n",
       "<tr>\n",
       "  <th>currentlivingsituation_1</th> <td>   -0.9849</td> <td>    0.270</td> <td>   -3.645</td> <td> 0.000</td> <td>   -1.515</td> <td>   -0.455</td>\n",
       "</tr>\n",
       "<tr>\n",
       "  <th>currentlivingsituation_3</th> <td>   -0.8775</td> <td>    0.287</td> <td>   -3.061</td> <td> 0.002</td> <td>   -1.439</td> <td>   -0.316</td>\n",
       "</tr>\n",
       "<tr>\n",
       "  <th>currentlivingsituation_5</th> <td>   -0.8703</td> <td>    0.303</td> <td>   -2.871</td> <td> 0.004</td> <td>   -1.465</td> <td>   -0.276</td>\n",
       "</tr>\n",
       "<tr>\n",
       "  <th>doyouwork_1.0</th>            <td>    0.1861</td> <td>    0.180</td> <td>    1.032</td> <td> 0.302</td> <td>   -0.167</td> <td>    0.539</td>\n",
       "</tr>\n",
       "<tr>\n",
       "  <th>doyouwork_2.0</th>            <td>    0.2653</td> <td>    0.282</td> <td>    0.942</td> <td> 0.346</td> <td>   -0.286</td> <td>    0.817</td>\n",
       "</tr>\n",
       "<tr>\n",
       "  <th>ethnicity_1.0</th>            <td>   -0.6067</td> <td>    0.288</td> <td>   -2.105</td> <td> 0.035</td> <td>   -1.172</td> <td>   -0.042</td>\n",
       "</tr>\n",
       "<tr>\n",
       "  <th>ethnicity_2.0</th>            <td>   -1.5673</td> <td>    0.345</td> <td>   -4.539</td> <td> 0.000</td> <td>   -2.244</td> <td>   -0.891</td>\n",
       "</tr>\n",
       "</table>"
      ],
      "text/plain": [
       "<class 'statsmodels.iolib.summary.Summary'>\n",
       "\"\"\"\n",
       "                           Logit Regression Results                           \n",
       "==============================================================================\n",
       "Dep. Variable:              pct_today   No. Observations:                 1081\n",
       "Model:                          Logit   Df Residuals:                     1069\n",
       "Method:                           MLE   Df Model:                           11\n",
       "Date:                Tue, 25 May 2021   Pseudo R-squ.:                  0.1886\n",
       "Time:                        09:26:13   Log-Likelihood:                -567.22\n",
       "converged:                       True   LL-Null:                       -699.05\n",
       "Covariance Type:            nonrobust   LLR p-value:                 3.830e-50\n",
       "============================================================================================\n",
       "                               coef    std err          z      P>|z|      [0.025      0.975]\n",
       "--------------------------------------------------------------------------------------------\n",
       "gender                      -0.0571      0.152     -0.376      0.707      -0.355       0.241\n",
       "calcage                     -0.0470      0.417     -0.113      0.910      -0.865       0.771\n",
       "borninus                    -0.4408      0.283     -1.559      0.119      -0.995       0.113\n",
       "familyincome                 3.7874      0.363     10.429      0.000       3.076       4.499\n",
       "highesteducation            -0.3815      0.456     -0.837      0.403      -1.275       0.512\n",
       "currentlivingsituation_1    -0.9849      0.270     -3.645      0.000      -1.515      -0.455\n",
       "currentlivingsituation_3    -0.8775      0.287     -3.061      0.002      -1.439      -0.316\n",
       "currentlivingsituation_5    -0.8703      0.303     -2.871      0.004      -1.465      -0.276\n",
       "doyouwork_1.0                0.1861      0.180      1.032      0.302      -0.167       0.539\n",
       "doyouwork_2.0                0.2653      0.282      0.942      0.346      -0.286       0.817\n",
       "ethnicity_1.0               -0.6067      0.288     -2.105      0.035      -1.172      -0.042\n",
       "ethnicity_2.0               -1.5673      0.345     -4.539      0.000      -2.244      -0.891\n",
       "============================================================================================\n",
       "\"\"\""
      ]
     },
     "execution_count": 27,
     "metadata": {},
     "output_type": "execute_result"
    }
   ],
   "source": [
    "import statsmodels.api as sm\n",
    "\n",
    "model = sm.Logit(y, X)\n",
    "result = model.fit()\n",
    "result.summary()"
   ]
  },
  {
   "cell_type": "markdown",
   "metadata": {},
   "source": [
    "From the coefficients we also note that, by far, **familyincome** is the most important variable. We also see from the p-values that **gender** and **calcage** do not really influence **pct_today**, so we remove them from our data set. "
   ]
  },
  {
   "cell_type": "code",
   "execution_count": 28,
   "metadata": {},
   "outputs": [],
   "source": [
    "df_norm2 = df_norm.drop(['gender','calcage'],axis = 1)"
   ]
  },
  {
   "cell_type": "markdown",
   "metadata": {},
   "source": [
    "Let's try logistic regression again without these variables "
   ]
  },
  {
   "cell_type": "code",
   "execution_count": 29,
   "metadata": {},
   "outputs": [
    {
     "name": "stdout",
     "output_type": "stream",
     "text": [
      "Accuracy on training set: 0.7844\n",
      "Accuracy on test set: 0.8000\n"
     ]
    }
   ],
   "source": [
    "X = df_norm2.loc[:, df_norm2.columns != 'pct_today']\n",
    "y = df_norm2.loc[:,'pct_today']\n",
    "\n",
    "X_train, X_test, y_train, y_test = train_test_split(X,y, test_size = 0.3, random_state = 0)\n",
    "logreg = LogisticRegression()\n",
    "logreg.fit(X_train, y_train)\n",
    "\n",
    "y_pred = logreg.predict(X_test)\n",
    "print('Accuracy on training set: {:.4f}'.format(logreg.score(X_train, y_train)))\n",
    "print('Accuracy on test set: {:.4f}'.format(logreg.score(X_test, y_test)))"
   ]
  },
  {
   "cell_type": "markdown",
   "metadata": {},
   "source": [
    "Great! It got a little better. However, even a small increase in accuracy would increase our potential market by billions of dollars, so we continue to try to optimize the model. Additionally, we need to look at metrics of precision and recall. "
   ]
  },
  {
   "cell_type": "code",
   "execution_count": 30,
   "metadata": {},
   "outputs": [
    {
     "name": "stdout",
     "output_type": "stream",
     "text": [
      "precision: 0.8008\n",
      "recall: 0.9190\n",
      "accuracy: 0.8000\n"
     ]
    }
   ],
   "source": [
    "from sklearn.metrics import precision_score, recall_score, accuracy_score\n",
    "\n",
    "precision = precision_score(y_test, y_pred)\n",
    "recall = recall_score(y_test, y_pred)\n",
    "accuracy = accuracy_score(y_test, y_pred)\n",
    "\n",
    "print('precision: {:.4f}'.format(precision))\n",
    "print('recall: {:.4f}'.format(recall))\n",
    "print('accuracy: {:.4f}'.format(accuracy))"
   ]
  },
  {
   "cell_type": "markdown",
   "metadata": {},
   "source": [
    "In this context:\n",
    "\n",
    "Recall measures how well a person will be identified as an investor if they are actually an investor.\n",
    "Precision measures how well a person will be identified as a non-investor if they don't invest.\n",
    "\n",
    "We will assume that we are trying to maximize our reach, and have large marketing budgets, so that if there is an investor we would like to reach them. Therefore we would like a model that maximizes recall. If we sacrafice a bit on precision and find a lower precision, this means we have a higher chance of targeting people who are actually not very likely to invest. "
   ]
  },
  {
   "cell_type": "markdown",
   "metadata": {},
   "source": [
    "Let's also take a look at the ROC curve:"
   ]
  },
  {
   "cell_type": "code",
   "execution_count": 31,
   "metadata": {},
   "outputs": [
    {
     "data": {
      "image/png": "[encoded data removed]",
      "text/plain": [
       "<Figure size 432x288 with 1 Axes>"
      ]
     },
     "metadata": {
      "needs_background": "light"
     },
     "output_type": "display_data"
    }
   ],
   "source": [
    "from sklearn.metrics import roc_auc_score\n",
    "from sklearn.metrics import roc_curve\n",
    "logit_roc_auc = roc_auc_score(y_test, y_pred)\n",
    "fpr, tpr, thresholds = roc_curve(y_test, logreg.predict_proba(X_test)[:,1])\n",
    "plt.figure()\n",
    "plt.plot(fpr, tpr, label='Logistic Regression (area = %0.2f)' % logit_roc_auc)\n",
    "plt.plot([0, 1], [0, 1],'r--')\n",
    "plt.xlim([0.0, 1.0])\n",
    "plt.ylim([0.0, 1.05])\n",
    "plt.xlabel('False Positive Rate')\n",
    "plt.ylabel('True Positive Rate')\n",
    "plt.title('Receiver operating characteristic')\n",
    "plt.legend(loc=\"lower right\")\n",
    "plt.savefig('Log_ROC')\n",
    "plt.show()"
   ]
  },
  {
   "cell_type": "markdown",
   "metadata": {},
   "source": [
    "It has improved slightly as well. \n",
    "\n",
    "Since we have a variety of different variables, it is likely that the decision boundary between investors and non-investors is not a flat hyperplane. Since K-Nearest-Neighbors is also a simple algorithm, and is additionally capable of non-linear decision boundaries, so next we use KNN as another algorithm to test the data. "
   ]
  },
  {
   "cell_type": "code",
   "execution_count": 32,
   "metadata": {},
   "outputs": [
    {
     "name": "stdout",
     "output_type": "stream",
     "text": [
      "precision: 0.7664\n",
      "recall: 0.8905\n",
      "accuracy: 0.7538\n"
     ]
    }
   ],
   "source": [
    "from sklearn.neighbors import KNeighborsClassifier\n",
    "\n",
    "knn = KNeighborsClassifier()\n",
    "knn.fit(X_train, y_train)\n",
    "\n",
    "y_pred = knn.predict(X_test)\n",
    "\n",
    "precision = precision_score(y_test, y_pred)\n",
    "recall = recall_score(y_test, y_pred)\n",
    "accuracy = accuracy_score(y_test, y_pred)\n",
    "\n",
    "print('precision: {:.4f}'.format(precision))\n",
    "print('recall: {:.4f}'.format(recall))\n",
    "print('accuracy: {:.4f}'.format(accuracy))"
   ]
  },
  {
   "cell_type": "markdown",
   "metadata": {},
   "source": [
    "Here we find that logistic regression actually does better in all three metrics. \n",
    "\n",
    "However, the recall score is quite close and so a few tweaks to the parameters and features for each model might give a change to the recall.\n",
    "\n",
    "So now we would like to systematically study how different feature engineering choices, and also how different models, perform with this data. So next we try a few other options for our model to see if we can improve the recall futher."
   ]
  },
  {
   "cell_type": "markdown",
   "metadata": {},
   "source": [
    "# Pipeline Construction"
   ]
  },
  {
   "cell_type": "markdown",
   "metadata": {},
   "source": [
    "We go back to our original dataset before we did any normalization, or deleted any null values.  \n",
    "\n",
    "Next we describe a few parameters we would like to vary in these different models. \n"
   ]
  },
  {
   "cell_type": "code",
   "execution_count": 33,
   "metadata": {},
   "outputs": [],
   "source": [
    "#df_stats.info()"
   ]
  },
  {
   "cell_type": "markdown",
   "metadata": {},
   "source": [
    "First we import all the preprocessing modules and machine learning models we will be testing out, as well as **RandomizedSearchCV** which helps us to try out all of the parameters for each of our models. \n",
    "\n",
    "- For preprocessing, we allow the pipleline to choose **StandardScaler** instead of **MinMaxScaler** in case there are any outliers that we want to have reduced influence. \n",
    "\n",
    "- We give the pipeline the option of using **PolynomialFeatures**, which takes into account if there are any interactions between variables or nonlinear dependencies. \n",
    "\n",
    "- We use either **IterativeImputer** or **SimpleImputer** to fill in null values. Since there are very few at this stage in the data processing, we don't expect this variable to change things too much either way, but we include it for completeness. \n",
    "\n",
    "- Finally, we also search for the optimal hyperparameters for each chosen algorithm to give us maximum prediction power. "
   ]
  },
  {
   "cell_type": "code",
   "execution_count": 41,
   "metadata": {},
   "outputs": [],
   "source": [
    "from sklearn.preprocessing import StandardScaler, MinMaxScaler, PolynomialFeatures\n",
    "#from sklearn.decomposition import PCA\n",
    "from sklearn.pipeline import Pipeline\n",
    "from sklearn.experimental import enable_iterative_imputer\n",
    "from sklearn.impute import IterativeImputer\n",
    "from sklearn.impute import SimpleImputer\n",
    "from sklearn.linear_model import LogisticRegression\n",
    "# from sklearn.svm import SVC\n",
    "# from sklearn.tree import DecisionTreeClassifier\n",
    "#from sklearn.ensemble import RandomForestClassifier\n",
    "# from sklearn.ensemble import GradientBoostingClassifier\n",
    "from sklearn.compose import ColumnTransformer  \n",
    "from sklearn.model_selection import RandomizedSearchCV\n",
    "\n",
    "import warnings\n",
    "warnings.filterwarnings('ignore')"
   ]
  },
  {
   "cell_type": "markdown",
   "metadata": {},
   "source": [
    "Then we build our pipeline"
   ]
  },
  {
   "cell_type": "code",
   "execution_count": 42,
   "metadata": {},
   "outputs": [],
   "source": [
    "# Building a Pipeline inside RandomSearchCV, responsible for finding the best model and it's parameters\n",
    "# Based on a kaggle tutorial notebook (https://www.kaggle.com/pedrodematos/titanic-a-complete-approach-to-top-6-rank)\n",
    "\n",
    "def defineBestModelPipeline(df, target, categorical_columns, numeric_columns):\n",
    "    \n",
    "    # Splitting original data into Train and Test BEFORE applying transformations\n",
    "    # Later in RandomSearchCV, x_train will be splitted into train/val sets\n",
    "    # The transformations are going to be fitted specifically on the train set,\n",
    "    # and then applied to both train/test sets. This way, information leakage is avoided!\n",
    "    x_train, x_test, y_train, y_test = train_test_split(df, target, test_size=0.10, random_state=42)\n",
    "    y_train = y_train.to_numpy() # Transforming training targets into numpy arrays\n",
    "    y_test = y_test.to_numpy() # Transforming test targets into numpy arrays\n",
    "    \n",
    "    # Numeric Transformers\n",
    "    # Here, we are creating different several different data transformation pipelines \n",
    "    # to be applied in our numeric features\n",
    "    numeric_transformer_1 = Pipeline(steps=[('imp', IterativeImputer(max_iter=30, random_state=42)),\n",
    "                                            ('scaler', MinMaxScaler())])\n",
    "    numeric_transformer_2 = Pipeline(steps=[('imp', IterativeImputer(max_iter=20, random_state=42)),\n",
    "                                            ('scaler', StandardScaler())])\n",
    "    numeric_transformer_3 = Pipeline(steps=[('imp', SimpleImputer(strategy='mean')),\n",
    "                                            ('scaler', MinMaxScaler())])\n",
    "    numeric_transformer_4 = Pipeline(steps=[('imp', SimpleImputer(strategy='median')),\n",
    "                                            ('scaler', StandardScaler())])\n",
    "\n",
    "    #Applies transformers to columns of an array or pandas DataFrame.   \n",
    "    data_transformations_1 = ColumnTransformer(transformers=[('num', numeric_transformer_1, numeric_columns)])\n",
    "    data_transformations_2 = ColumnTransformer(transformers=[('num', numeric_transformer_2, numeric_columns)])\n",
    "    data_transformations_3 = ColumnTransformer(transformers=[('num', numeric_transformer_3, numeric_columns)])\n",
    "    data_transformations_4 = ColumnTransformer(transformers=[('num', numeric_transformer_4, numeric_columns)])    \n",
    "   \n",
    "    # initialize pipeline\n",
    "    pipe = Pipeline(steps=[('data_transformations', data_transformations_1), # Initializing data transformation step by choosing any of the above\n",
    "                           ('feature_eng', None), # Initializing feature engineering step by choosing any desired method\n",
    "                           ('clf', LogisticRegression())]) # Initializing modeling step of the pipeline with any model object\n",
    "                           #memory='cache_folder') -> Used to optimize memory when needed\n",
    "    \n",
    "    #parameter grid\n",
    "    params_grid = [\n",
    "                    {'data_transformations': [data_transformations_1, data_transformations_2, data_transformations_3, data_transformations_4],\n",
    "                     'feature_eng': [None, \n",
    "                                     PolynomialFeatures(degree=1), PolynomialFeatures(degree=2), PolynomialFeatures(degree=3)],\n",
    "                     'clf': [KNeighborsClassifier()],\n",
    "                     'clf__n_neighbors': stats.randint(1, 50),\n",
    "                     'clf__metric': ['minkowski', 'euclidean']},\n",
    "\n",
    "                    {'data_transformations': [data_transformations_1, data_transformations_2, data_transformations_3, data_transformations_4],\n",
    "                     'feature_eng': [None, \n",
    "                                     PolynomialFeatures(degree=1), PolynomialFeatures(degree=2), PolynomialFeatures(degree=3)],\n",
    "                     'clf': [LogisticRegression()],\n",
    "                     'clf__penalty': ['l1', 'l2'],\n",
    "                     'clf__C': stats.uniform(0.01, 10)},\n",
    "                    \n",
    "            ]\n",
    "        \n",
    "        \n",
    "    #metrics = ['accuracy', 'precision', 'recall', 'f1', 'roc_auc']\n",
    "    \n",
    "    metrics = ['recall'] #We would like to optimize for best recall\n",
    "\n",
    "    best_model_pipeline = RandomizedSearchCV(pipe, params_grid, n_iter=500, \n",
    "                                     scoring=metrics, refit='recall', \n",
    "                                     n_jobs=-1, cv=5, random_state=21)\n",
    "\n",
    "    best_model_pipeline.fit(x_train, y_train)\n",
    "\n",
    "\n",
    "    # At last, we check the final results\n",
    "    print(\"\\n\\n#---------------- Best Data Pipeline found in RandomSearchCV  ----------------#\\n\\n\", best_model_pipeline.best_estimator_[0])\n",
    "    print(\"\\n\\n#---------------- Best Feature Engineering technique found in RandomSearchCV  ----------------#\\n\\n\", best_model_pipeline.best_estimator_[1])\n",
    "    print(\"\\n\\n#---------------- Best Classifier found in RandomSearchCV  ----------------#\\n\\n\", best_model_pipeline.best_estimator_[2])\n",
    "    print(\"\\n\\n#---------------- Best Estimator's average Recall Score on CV (validation set) ----------------#\\n\\n\", best_model_pipeline.best_score_)\n",
    "\n",
    "    return x_train, x_test, y_train, y_test, best_model_pipeline"
   ]
  },
  {
   "cell_type": "code",
   "execution_count": 43,
   "metadata": {},
   "outputs": [],
   "source": [
    "from sklearn.metrics import f1_score, precision_score, recall_score, roc_auc_score, accuracy_score\n",
    "\n",
    "\n",
    "def testSetResultsClassifier(classifier, x_test, y_test):\n",
    "    predictions = classifier.predict(x_test)\n",
    "    \n",
    "    results = []\n",
    "    f1 = f1_score(y_test, predictions)\n",
    "    precision = precision_score(y_test, predictions)\n",
    "    recall = recall_score(y_test, predictions)\n",
    "    #roc_auc = roc_auc_score(y_test, predictions)\n",
    "    accuracy = accuracy_score(y_test, predictions)\n",
    "    \n",
    "    results.append(f1)\n",
    "    results.append(precision)\n",
    "    results.append(recall)\n",
    "    #results.append(roc_auc)\n",
    "    results.append(accuracy)\n",
    "    \n",
    "    print(\"\\n\\n#---------------- Test set results (Best Classifier) ----------------#\\n\")\n",
    "    #print(\"F1 score, Precision, Recall, ROC_AUC score, Accuracy:\")\n",
    "    print(\"F1 score, Precision, Recall, Accuracy:\")\n",
    "    print(results)\n",
    "    \n",
    "    return results"
   ]
  },
  {
   "cell_type": "code",
   "execution_count": 44,
   "metadata": {},
   "outputs": [],
   "source": [
    "# Identify the numeric and categorical columns and then the dataset into X and y variables. \n",
    "\n",
    "X = df_stats.loc[:, df_stats.columns != 'pct_today']\n",
    "y = df_stats.loc[:,'pct_today']\n",
    "#df_stats.columns\n",
    "\n",
    "numeric_columns = ['calcage','familyincome', 'highesteducation']\n",
    "categorical_columns = ['gender', 'borninus',\n",
    "       'currentlivingsituation_1',\n",
    "       'currentlivingsituation_3',\n",
    "       'currentlivingsituation_5', 'doyouwork_1.0', 'doyouwork_2.0',\n",
    "       'doyouwork_3.0', 'ethnicity_1.0', 'ethnicity_2.0']"
   ]
  },
  {
   "cell_type": "code",
   "execution_count": 45,
   "metadata": {},
   "outputs": [
    {
     "name": "stdout",
     "output_type": "stream",
     "text": [
      "\n",
      "\n",
      "#---------------- Best Data Pipeline found in RandomSearchCV  ----------------#\n",
      "\n",
      " ColumnTransformer(transformers=[('num',\n",
      "                                 Pipeline(steps=[('imp',\n",
      "                                                  IterativeImputer(max_iter=20,\n",
      "                                                                   random_state=42)),\n",
      "                                                 ('scaler', StandardScaler())]),\n",
      "                                 ['calcage', 'familyincome',\n",
      "                                  'highesteducation'])])\n",
      "\n",
      "\n",
      "#---------------- Best Feature Engineering technique found in RandomSearchCV  ----------------#\n",
      "\n",
      " PolynomialFeatures(degree=3)\n",
      "\n",
      "\n",
      "#---------------- Best Classifier found in RandomSearchCV  ----------------#\n",
      "\n",
      " KNeighborsClassifier(metric='euclidean', n_neighbors=39)\n",
      "\n",
      "\n",
      "#---------------- Best Estimator's average Recall Score on CV (validation set) ----------------#\n",
      "\n",
      " 0.9438226744186047\n",
      "\n",
      "\n",
      "#---------------- Test set results (Best Classifier) ----------------#\n",
      "\n",
      "F1 score, Precision, Recall, Accuracy:\n",
      "[0.8783783783783784, 0.8024691358024691, 0.9701492537313433, 0.8348623853211009]\n"
     ]
    }
   ],
   "source": [
    "# Calling the function above, returning train/test data and best model's pipeline\n",
    "x_train, x_test, y_train, y_test, best_model_pipeline = defineBestModelPipeline(df, y, categorical_columns, numeric_columns)\n",
    "\n",
    "# Checking best model's performance on test data\n",
    "test_set_results = testSetResultsClassifier(best_model_pipeline, x_test, y_test)\n"
   ]
  },
  {
   "cell_type": "markdown",
   "metadata": {},
   "source": [
    "## Results\n",
    "\n",
    "We find that the best classifier to use is actually the KNeighborsClassifier, using polynomial features (degree = 3), which gives us an improved 0.97 recall score. We can say that 97% of the time we will be able to predict that someone is an investor if they are indeed an investor, given only demographic information. The fact that the best feature engineering technique used includes polynomial features indicates that there are interactions between features and non-linear features which are important to the model. This makes our model more opaque, but given the large increase in our established metric of importance (recall), we believe that this model should be used for prediction. Given the portion of investors vs. non-investors found in our representative data set, if we try to blindly identify potential investors we have about a 65% possibility of success. Using the model built here, using a few demographic characteristics, we are able to correctly identify someone as an investor or a non-investor with an 83% accuracy rate. "
   ]
  }
 ],
 "metadata": {
  "kernelspec": {
   "display_name": "Python 3",
   "language": "python",
   "name": "python3"
  },
  "language_info": {
   "codemirror_mode": {
    "name": "ipython",
    "version": 3
   },
   "file_extension": ".py",
   "mimetype": "text/x-python",
   "name": "python",
   "nbconvert_exporter": "python",
   "pygments_lexer": "ipython3",
   "version": "3.8.5"
  }
 },
 "nbformat": 4,
 "nbformat_minor": 4
}
