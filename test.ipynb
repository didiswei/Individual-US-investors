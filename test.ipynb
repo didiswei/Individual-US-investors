{
 "cells": [
  {
   "cell_type": "code",
   "execution_count": 1,
   "id": "b80b69dd",
   "metadata": {},
   "outputs": [],
   "source": [
    "import pandas as pd\n",
    "import seaborn as sns"
   ]
  },
  {
   "cell_type": "code",
   "execution_count": 2,
   "id": "2743ec99",
   "metadata": {},
   "outputs": [
    {
     "data": {
      "text/html": [
       "<div>\n",
       "<style scoped>\n",
       "    .dataframe tbody tr th:only-of-type {\n",
       "        vertical-align: middle;\n",
       "    }\n",
       "\n",
       "    .dataframe tbody tr th {\n",
       "        vertical-align: top;\n",
       "    }\n",
       "\n",
       "    .dataframe thead th {\n",
       "        text-align: right;\n",
       "    }\n",
       "</style>\n",
       "<table border=\"1\" class=\"dataframe\">\n",
       "  <thead>\n",
       "    <tr style=\"text-align: right;\">\n",
       "      <th></th>\n",
       "      <th>prim_key</th>\n",
       "      <th>tsstart</th>\n",
       "      <th>tsend</th>\n",
       "      <th>consent</th>\n",
       "      <th>gender</th>\n",
       "      <th>calcage</th>\n",
       "      <th>birthyear</th>\n",
       "      <th>currentlivingsituation</th>\n",
       "      <th>borninus</th>\n",
       "      <th>stateborn</th>\n",
       "      <th>...</th>\n",
       "      <th>iii_b_4</th>\n",
       "      <th>iii_b_5</th>\n",
       "      <th>iii_b_6</th>\n",
       "      <th>iv_a</th>\n",
       "      <th>iv_a_1</th>\n",
       "      <th>iv_a_2</th>\n",
       "      <th>iv_b_1</th>\n",
       "      <th>iv_b_2</th>\n",
       "      <th>cs_001</th>\n",
       "      <th>weight</th>\n",
       "    </tr>\n",
       "  </thead>\n",
       "  <tbody>\n",
       "    <tr>\n",
       "      <th>0</th>\n",
       "      <td>10027497:1</td>\n",
       "      <td>2016-12-14 17:26:57</td>\n",
       "      <td>2016-12-14 17:55:21</td>\n",
       "      <td>1.0</td>\n",
       "      <td>2</td>\n",
       "      <td>57</td>\n",
       "      <td>59</td>\n",
       "      <td>1</td>\n",
       "      <td>1</td>\n",
       "      <td>32.0</td>\n",
       "      <td>...</td>\n",
       "      <td>2.0</td>\n",
       "      <td>4.0</td>\n",
       "      <td>4.0</td>\n",
       "      <td>2.0</td>\n",
       "      <td>3.0</td>\n",
       "      <td>3.0</td>\n",
       "      <td>1.0</td>\n",
       "      <td>4.0</td>\n",
       "      <td>2.0</td>\n",
       "      <td>0.298804</td>\n",
       "    </tr>\n",
       "    <tr>\n",
       "      <th>1</th>\n",
       "      <td>10027500:1</td>\n",
       "      <td>2016-12-14 21:10:31</td>\n",
       "      <td>2016-12-14 21:28:09</td>\n",
       "      <td>1.0</td>\n",
       "      <td>1</td>\n",
       "      <td>54</td>\n",
       "      <td>62</td>\n",
       "      <td>3</td>\n",
       "      <td>1</td>\n",
       "      <td>48.0</td>\n",
       "      <td>...</td>\n",
       "      <td>3.0</td>\n",
       "      <td>3.0</td>\n",
       "      <td>4.0</td>\n",
       "      <td>4.0</td>\n",
       "      <td>1.0</td>\n",
       "      <td>3.0</td>\n",
       "      <td>2.0</td>\n",
       "      <td>2.0</td>\n",
       "      <td>2.0</td>\n",
       "      <td>1.952258</td>\n",
       "    </tr>\n",
       "    <tr>\n",
       "      <th>2</th>\n",
       "      <td>10027504:1</td>\n",
       "      <td>2016-12-19 15:38:03</td>\n",
       "      <td>2016-12-19 15:45:32</td>\n",
       "      <td>1.0</td>\n",
       "      <td>1</td>\n",
       "      <td>37</td>\n",
       "      <td>79</td>\n",
       "      <td>1</td>\n",
       "      <td>1</td>\n",
       "      <td>8.0</td>\n",
       "      <td>...</td>\n",
       "      <td>NaN</td>\n",
       "      <td>3.0</td>\n",
       "      <td>3.0</td>\n",
       "      <td>1.0</td>\n",
       "      <td>4.0</td>\n",
       "      <td>4.0</td>\n",
       "      <td>4.0</td>\n",
       "      <td>4.0</td>\n",
       "      <td>3.0</td>\n",
       "      <td>1.931925</td>\n",
       "    </tr>\n",
       "    <tr>\n",
       "      <th>3</th>\n",
       "      <td>10027513:1</td>\n",
       "      <td>2016-12-16 21:33:52</td>\n",
       "      <td>2016-12-16 21:51:25</td>\n",
       "      <td>1.0</td>\n",
       "      <td>1</td>\n",
       "      <td>66</td>\n",
       "      <td>49</td>\n",
       "      <td>1</td>\n",
       "      <td>1</td>\n",
       "      <td>21.0</td>\n",
       "      <td>...</td>\n",
       "      <td>2.0</td>\n",
       "      <td>4.0</td>\n",
       "      <td>3.0</td>\n",
       "      <td>2.0</td>\n",
       "      <td>2.0</td>\n",
       "      <td>3.0</td>\n",
       "      <td>1.0</td>\n",
       "      <td>1.0</td>\n",
       "      <td>1.0</td>\n",
       "      <td>0.316861</td>\n",
       "    </tr>\n",
       "    <tr>\n",
       "      <th>4</th>\n",
       "      <td>10027517:1</td>\n",
       "      <td>2016-12-20 12:50:28</td>\n",
       "      <td>2016-12-20 13:17:27</td>\n",
       "      <td>1.0</td>\n",
       "      <td>1</td>\n",
       "      <td>55</td>\n",
       "      <td>61</td>\n",
       "      <td>1</td>\n",
       "      <td>1</td>\n",
       "      <td>30.0</td>\n",
       "      <td>...</td>\n",
       "      <td>NaN</td>\n",
       "      <td>2.0</td>\n",
       "      <td>4.0</td>\n",
       "      <td>4.0</td>\n",
       "      <td>3.0</td>\n",
       "      <td>1.0</td>\n",
       "      <td>3.0</td>\n",
       "      <td>3.0</td>\n",
       "      <td>2.0</td>\n",
       "      <td>0.359180</td>\n",
       "    </tr>\n",
       "  </tbody>\n",
       "</table>\n",
       "<p>5 rows × 123 columns</p>\n",
       "</div>"
      ],
      "text/plain": [
       "     prim_key              tsstart                tsend  consent  gender  \\\n",
       "0  10027497:1  2016-12-14 17:26:57  2016-12-14 17:55:21      1.0       2   \n",
       "1  10027500:1  2016-12-14 21:10:31  2016-12-14 21:28:09      1.0       1   \n",
       "2  10027504:1  2016-12-19 15:38:03  2016-12-19 15:45:32      1.0       1   \n",
       "3  10027513:1  2016-12-16 21:33:52  2016-12-16 21:51:25      1.0       1   \n",
       "4  10027517:1  2016-12-20 12:50:28  2016-12-20 13:17:27      1.0       1   \n",
       "\n",
       "   calcage  birthyear  currentlivingsituation  borninus  stateborn  ...  \\\n",
       "0       57         59                       1         1       32.0  ...   \n",
       "1       54         62                       3         1       48.0  ...   \n",
       "2       37         79                       1         1        8.0  ...   \n",
       "3       66         49                       1         1       21.0  ...   \n",
       "4       55         61                       1         1       30.0  ...   \n",
       "\n",
       "   iii_b_4  iii_b_5  iii_b_6  iv_a  iv_a_1  iv_a_2  iv_b_1  iv_b_2  cs_001  \\\n",
       "0      2.0      4.0      4.0   2.0     3.0     3.0     1.0     4.0     2.0   \n",
       "1      3.0      3.0      4.0   4.0     1.0     3.0     2.0     2.0     2.0   \n",
       "2      NaN      3.0      3.0   1.0     4.0     4.0     4.0     4.0     3.0   \n",
       "3      2.0      4.0      3.0   2.0     2.0     3.0     1.0     1.0     1.0   \n",
       "4      NaN      2.0      4.0   4.0     3.0     1.0     3.0     3.0     2.0   \n",
       "\n",
       "     weight  \n",
       "0  0.298804  \n",
       "1  1.952258  \n",
       "2  1.931925  \n",
       "3  0.316861  \n",
       "4  0.359180  \n",
       "\n",
       "[5 rows x 123 columns]"
      ]
     },
     "execution_count": 2,
     "metadata": {},
     "output_type": "execute_result"
    }
   ],
   "source": [
    "df = pd.io.stata.read_stata('investors.dta')\n",
    "df.head()"
   ]
  },
  {
   "cell_type": "code",
   "execution_count": 3,
   "id": "0090472e",
   "metadata": {},
   "outputs": [
    {
     "name": "stdout",
     "output_type": "stream",
     "text": [
      "<class 'pandas.core.frame.DataFrame'>\n",
      "Int64Index: 1255 entries, 0 to 1254\n",
      "Columns: 123 entries, prim_key to weight\n",
      "dtypes: float32(1), float64(106), int8(12), object(4)\n",
      "memory usage: 1.1+ MB\n"
     ]
    }
   ],
   "source": [
    "df.info()"
   ]
  },
  {
   "cell_type": "code",
   "execution_count": 4,
   "id": "5c806b05",
   "metadata": {},
   "outputs": [
    {
     "data": {
      "text/plain": [
       "['prim_key',\n",
       " 'tsstart',\n",
       " 'tsend',\n",
       " 'consent',\n",
       " 'gender',\n",
       " 'calcage',\n",
       " 'birthyear',\n",
       " 'currentlivingsituation',\n",
       " 'borninus',\n",
       " 'stateborn',\n",
       " 'citizenus',\n",
       " 'familyincome',\n",
       " 'familyincome_part2',\n",
       " 'householdmembers',\n",
       " 'doyouwork',\n",
       " 'highesteducation',\n",
       " 'currentjobstatuss1',\n",
       " 'currentjobstatuss2',\n",
       " 'currentjobstatuss3',\n",
       " 'currentjobstatuss4',\n",
       " 'currentjobstatuss5',\n",
       " 'currentjobstatuss6',\n",
       " 'currentjobstatuss7',\n",
       " 'typework',\n",
       " 'statereside',\n",
       " 'ethnicity',\n",
       " 'ethnicity_pacificislander',\n",
       " 'hispaniclatino',\n",
       " 'hispaniclatino_detail',\n",
       " 'tshhbox',\n",
       " 'recruitment_type',\n",
       " 'webtv',\n",
       " 'oldprim_key',\n",
       " 'scr1',\n",
       " 'additional',\n",
       " 'd2',\n",
       " 'd4',\n",
       " 'pct_today',\n",
       " 'q1',\n",
       " 'v276_whomostknowledgeable',\n",
       " 'i_a_0',\n",
       " 'i_a_0_1',\n",
       " 'i_a_1',\n",
       " 'i_b_1',\n",
       " 'i_b_1_1',\n",
       " 'i_b_2a',\n",
       " 'i_b_2b',\n",
       " 'i_b_2_1a',\n",
       " 'i_b_2_1b',\n",
       " 'i_b_8_1',\n",
       " 'i_b_3',\n",
       " 'i_b_4a',\n",
       " 'i_b_4b',\n",
       " 'i_b_4c',\n",
       " 'i_b_4d',\n",
       " 'i_b_4e',\n",
       " 'i_b_4f',\n",
       " 'i_b_5',\n",
       " 'i_b_6',\n",
       " 'i_b_7',\n",
       " 'i_b_8',\n",
       " 'i_b_9',\n",
       " 'i_b_10',\n",
       " 'i_b_11',\n",
       " 'i_b_12',\n",
       " 'i_b_13',\n",
       " 'i_b_14',\n",
       " 'i_b_15',\n",
       " 'i_b_16_1',\n",
       " 'i_b_16_2',\n",
       " 'i_b_16_2_5',\n",
       " 'i_b_18',\n",
       " 'i_b_19',\n",
       " 'i_b_20',\n",
       " 'i_b_17',\n",
       " 'i_b_21',\n",
       " 'i_b_22',\n",
       " 'i_b_23',\n",
       " 'i_b_24',\n",
       " 'i_b_25',\n",
       " 'i_b_26',\n",
       " 'i_b_27',\n",
       " 'i_c_1',\n",
       " 'i_a_0a',\n",
       " 'i_a_0b',\n",
       " 'i_a_0c',\n",
       " 'i_a_0d',\n",
       " 'i_a_0e',\n",
       " 'i_a_1a',\n",
       " 'i_a_1b',\n",
       " 'i_a_1c1',\n",
       " 'i_a_1c2',\n",
       " 'i_a_1c3',\n",
       " 'i_a_1c4',\n",
       " 'i_a_1c5',\n",
       " 'i_a_1c6',\n",
       " 'i_a_1c7',\n",
       " 'i_b_9b1',\n",
       " 'i_b_9b2',\n",
       " 'i_b_10b1',\n",
       " 'i_b_10b2',\n",
       " 'i_b_8b1',\n",
       " 'i_b_8b2',\n",
       " 'i_b_8b3',\n",
       " 'i_b_11b1',\n",
       " 'i_b_11b2',\n",
       " 'i_b_6b1',\n",
       " 'i_b_6b2',\n",
       " 'iii',\n",
       " 'iii_a_1',\n",
       " 'iii_b_1',\n",
       " 'iii_b_2',\n",
       " 'iii_b_3',\n",
       " 'iii_b_4',\n",
       " 'iii_b_5',\n",
       " 'iii_b_6',\n",
       " 'iv_a',\n",
       " 'iv_a_1',\n",
       " 'iv_a_2',\n",
       " 'iv_b_1',\n",
       " 'iv_b_2',\n",
       " 'cs_001',\n",
       " 'weight']"
      ]
     },
     "execution_count": 4,
     "metadata": {},
     "output_type": "execute_result"
    }
   ],
   "source": [
    "df.columns.values.tolist()"
   ]
  },
  {
   "cell_type": "code",
   "execution_count": 5,
   "id": "3b3aa16f",
   "metadata": {},
   "outputs": [],
   "source": [
    "keep = ['gender',\n",
    " 'calcage',\n",
    " 'currentlivingsituation',\n",
    " 'borninus',\n",
    " 'citizenus',\n",
    " 'familyincome',\n",
    " 'doyouwork',\n",
    " 'highesteducation',\n",
    " 'statereside',\n",
    " 'ethnicity','pct_today']"
   ]
  },
  {
   "cell_type": "code",
   "execution_count": 6,
   "id": "564f85f6",
   "metadata": {},
   "outputs": [],
   "source": [
    "df = df.loc[:,keep]"
   ]
  },
  {
   "cell_type": "code",
   "execution_count": 7,
   "id": "d2c05c37",
   "metadata": {},
   "outputs": [
    {
     "data": {
      "text/plain": [
       "<AxesSubplot:>"
      ]
     },
     "execution_count": 7,
     "metadata": {},
     "output_type": "execute_result"
    },
    {
     "data": {
      "image/png": "[encoded data removed]",
      "text/plain": [
       "<Figure size 432x288 with 1 Axes>"
      ]
     },
     "metadata": {
      "needs_background": "light"
     },
     "output_type": "display_data"
    }
   ],
   "source": [
    "# plot pct_today\n",
    "df.pct_today.hist()"
   ]
  },
  {
   "cell_type": "code",
   "execution_count": 8,
   "id": "700b4975",
   "metadata": {},
   "outputs": [],
   "source": [
    "#percentage needs to be below 100\n",
    "df = df[df.pct_today < 100]"
   ]
  },
  {
   "cell_type": "code",
   "execution_count": 9,
   "id": "27f0392a",
   "metadata": {},
   "outputs": [
    {
     "data": {
      "text/plain": [
       "<AxesSubplot:>"
      ]
     },
     "execution_count": 9,
     "metadata": {},
     "output_type": "execute_result"
    },
    {
     "data": {
      "image/png": "[encoded data removed]",
      "text/plain": [
       "<Figure size 432x288 with 1 Axes>"
      ]
     },
     "metadata": {
      "needs_background": "light"
     },
     "output_type": "display_data"
    }
   ],
   "source": [
    "df.pct_today.hist(bins = 5)"
   ]
  },
  {
   "cell_type": "code",
   "execution_count": 10,
   "id": "478f7902",
   "metadata": {},
   "outputs": [
    {
     "data": {
      "text/plain": [
       "<AxesSubplot:xlabel='calcage', ylabel='pct_today'>"
      ]
     },
     "execution_count": 10,
     "metadata": {},
     "output_type": "execute_result"
    },
    {
     "data": {
      "image/png": "[encoded data removed]",
      "text/plain": [
       "<Figure size 432x288 with 1 Axes>"
      ]
     },
     "metadata": {
      "needs_background": "light"
     },
     "output_type": "display_data"
    }
   ],
   "source": [
    "sns.regplot(data = df, x = 'calcage', y = 'pct_today')"
   ]
  },
  {
   "cell_type": "code",
   "execution_count": 11,
   "id": "8f55f5c5",
   "metadata": {},
   "outputs": [
    {
     "data": {
      "text/plain": [
       "<AxesSubplot:xlabel='familyincome', ylabel='pct_today'>"
      ]
     },
     "execution_count": 11,
     "metadata": {},
     "output_type": "execute_result"
    },
    {
     "data": {
      "image/png": "[encoded data removed]",
      "text/plain": [
       "<Figure size 432x288 with 1 Axes>"
      ]
     },
     "metadata": {
      "needs_background": "light"
     },
     "output_type": "display_data"
    }
   ],
   "source": [
    "sns.regplot(data = df, x = 'familyincome', y = 'pct_today')"
   ]
  },
  {
   "cell_type": "code",
   "execution_count": 12,
   "id": "43ca0ff3",
   "metadata": {},
   "outputs": [
    {
     "data": {
      "text/plain": [
       "<AxesSubplot:xlabel='highesteducation', ylabel='pct_today'>"
      ]
     },
     "execution_count": 12,
     "metadata": {},
     "output_type": "execute_result"
    },
    {
     "data": {
      "image/png": "[encoded data removed]",
      "text/plain": [
       "<Figure size 432x288 with 1 Axes>"
      ]
     },
     "metadata": {
      "needs_background": "light"
     },
     "output_type": "display_data"
    }
   ],
   "source": [
    "sns.regplot(data = df, x = 'highesteducation', y = 'pct_today')"
   ]
  },
  {
   "cell_type": "code",
   "execution_count": 13,
   "id": "05f2c783",
   "metadata": {},
   "outputs": [
    {
     "data": {
      "text/plain": [
       "<AxesSubplot:xlabel='pct_today', ylabel='Count'>"
      ]
     },
     "execution_count": 13,
     "metadata": {},
     "output_type": "execute_result"
    },
    {
     "data": {
      "image/png": "[encoded data removed]",
      "text/plain": [
       "<Figure size 432x288 with 1 Axes>"
      ]
     },
     "metadata": {
      "needs_background": "light"
     },
     "output_type": "display_data"
    }
   ],
   "source": [
    "sns.histplot(data=df, x=\"pct_today\", bins = 5,\n",
    "             hue=\"gender\", element=\"poly\")"
   ]
  },
  {
   "cell_type": "code",
   "execution_count": 14,
   "id": "eb6b6d14",
   "metadata": {},
   "outputs": [
    {
     "data": {
      "text/plain": [
       "<AxesSubplot:xlabel='pct_today', ylabel='Count'>"
      ]
     },
     "execution_count": 14,
     "metadata": {},
     "output_type": "execute_result"
    },
    {
     "data": {
      "image/png": "[encoded data removed]",
      "text/plain": [
       "<Figure size 432x288 with 1 Axes>"
      ]
     },
     "metadata": {
      "needs_background": "light"
     },
     "output_type": "display_data"
    }
   ],
   "source": [
    "sns.histplot(data=df, x=\"pct_today\", bins = 5,\n",
    "             hue=\"borninus\", element=\"poly\")"
   ]
  },
  {
   "cell_type": "code",
   "execution_count": 15,
   "id": "db545fc0",
   "metadata": {},
   "outputs": [
    {
     "data": {
      "text/plain": [
       "<AxesSubplot:xlabel='pct_today', ylabel='Count'>"
      ]
     },
     "execution_count": 15,
     "metadata": {},
     "output_type": "execute_result"
    },
    {
     "data": {
      "image/png": "[encoded data removed]",
      "text/plain": [
       "<Figure size 432x288 with 1 Axes>"
      ]
     },
     "metadata": {
      "needs_background": "light"
     },
     "output_type": "display_data"
    }
   ],
   "source": [
    "sns.histplot(data=df, x=\"pct_today\", bins = 5,\n",
    "             hue=\"doyouwork\", element=\"poly\")"
   ]
  },
  {
   "cell_type": "code",
   "execution_count": 16,
   "id": "77efe268",
   "metadata": {},
   "outputs": [],
   "source": [
    "#df_states = df[(df.stateborn == 5.0)|(df.stateborn == 32.0)|(df.stateborn == 43.0)]"
   ]
  },
  {
   "cell_type": "code",
   "execution_count": 17,
   "id": "976dc173",
   "metadata": {},
   "outputs": [
    {
     "data": {
      "text/plain": [
       "<AxesSubplot:xlabel='pct_today', ylabel='Count'>"
      ]
     },
     "execution_count": 17,
     "metadata": {},
     "output_type": "execute_result"
    },
    {
     "data": {
      "image/png": "[encoded data removed]",
      "text/plain": [
       "<Figure size 432x288 with 1 Axes>"
      ]
     },
     "metadata": {
      "needs_background": "light"
     },
     "output_type": "display_data"
    }
   ],
   "source": [
    "sns.histplot(data=df, x=\"pct_today\", bins = 5,\n",
    "             hue=\"familyincome\", element=\"poly\")"
   ]
  },
  {
   "cell_type": "code",
   "execution_count": null,
   "id": "d24608e3",
   "metadata": {},
   "outputs": [],
   "source": []
  },
  {
   "cell_type": "code",
   "execution_count": 18,
   "id": "330255c4",
   "metadata": {},
   "outputs": [
    {
     "data": {
      "text/plain": [
       "<AxesSubplot:xlabel='pct_today', ylabel='Count'>"
      ]
     },
     "execution_count": 18,
     "metadata": {},
     "output_type": "execute_result"
    },
    {
     "data": {
      "image/png": "[encoded data removed]",
      "text/plain": [
       "<Figure size 432x288 with 1 Axes>"
      ]
     },
     "metadata": {
      "needs_background": "light"
     },
     "output_type": "display_data"
    }
   ],
   "source": [
    "sns.histplot(data=df, x=\"pct_today\", bins = 5,\n",
    "             hue=\"ethnicity\", element=\"poly\")"
   ]
  },
  {
   "cell_type": "code",
   "execution_count": 19,
   "id": "0fce805c",
   "metadata": {},
   "outputs": [
    {
     "data": {
      "text/html": [
       "<div>\n",
       "<style scoped>\n",
       "    .dataframe tbody tr th:only-of-type {\n",
       "        vertical-align: middle;\n",
       "    }\n",
       "\n",
       "    .dataframe tbody tr th {\n",
       "        vertical-align: top;\n",
       "    }\n",
       "\n",
       "    .dataframe thead th {\n",
       "        text-align: right;\n",
       "    }\n",
       "</style>\n",
       "<table border=\"1\" class=\"dataframe\">\n",
       "  <thead>\n",
       "    <tr style=\"text-align: right;\">\n",
       "      <th></th>\n",
       "      <th>gender</th>\n",
       "      <th>calcage</th>\n",
       "      <th>currentlivingsituation</th>\n",
       "      <th>borninus</th>\n",
       "      <th>citizenus</th>\n",
       "      <th>familyincome</th>\n",
       "      <th>doyouwork</th>\n",
       "      <th>highesteducation</th>\n",
       "      <th>statereside</th>\n",
       "      <th>ethnicity</th>\n",
       "      <th>pct_today</th>\n",
       "    </tr>\n",
       "  </thead>\n",
       "  <tbody>\n",
       "    <tr>\n",
       "      <th>0</th>\n",
       "      <td>2</td>\n",
       "      <td>57</td>\n",
       "      <td>1</td>\n",
       "      <td>1</td>\n",
       "      <td>1</td>\n",
       "      <td>14.0</td>\n",
       "      <td>1.0</td>\n",
       "      <td>13</td>\n",
       "      <td>32</td>\n",
       "      <td>1.0</td>\n",
       "      <td>50.0</td>\n",
       "    </tr>\n",
       "    <tr>\n",
       "      <th>1</th>\n",
       "      <td>1</td>\n",
       "      <td>54</td>\n",
       "      <td>3</td>\n",
       "      <td>1</td>\n",
       "      <td>1</td>\n",
       "      <td>11.0</td>\n",
       "      <td>1.0</td>\n",
       "      <td>9</td>\n",
       "      <td>48</td>\n",
       "      <td>1.0</td>\n",
       "      <td>5.0</td>\n",
       "    </tr>\n",
       "    <tr>\n",
       "      <th>2</th>\n",
       "      <td>1</td>\n",
       "      <td>37</td>\n",
       "      <td>1</td>\n",
       "      <td>1</td>\n",
       "      <td>1</td>\n",
       "      <td>13.0</td>\n",
       "      <td>1.0</td>\n",
       "      <td>10</td>\n",
       "      <td>8</td>\n",
       "      <td>1.0</td>\n",
       "      <td>10.0</td>\n",
       "    </tr>\n",
       "    <tr>\n",
       "      <th>3</th>\n",
       "      <td>1</td>\n",
       "      <td>66</td>\n",
       "      <td>1</td>\n",
       "      <td>1</td>\n",
       "      <td>1</td>\n",
       "      <td>14.0</td>\n",
       "      <td>1.0</td>\n",
       "      <td>13</td>\n",
       "      <td>5</td>\n",
       "      <td>1.0</td>\n",
       "      <td>60.0</td>\n",
       "    </tr>\n",
       "    <tr>\n",
       "      <th>4</th>\n",
       "      <td>1</td>\n",
       "      <td>55</td>\n",
       "      <td>1</td>\n",
       "      <td>1</td>\n",
       "      <td>1</td>\n",
       "      <td>14.0</td>\n",
       "      <td>1.0</td>\n",
       "      <td>10</td>\n",
       "      <td>30</td>\n",
       "      <td>1.0</td>\n",
       "      <td>85.0</td>\n",
       "    </tr>\n",
       "  </tbody>\n",
       "</table>\n",
       "</div>"
      ],
      "text/plain": [
       "   gender  calcage  currentlivingsituation  borninus  citizenus  familyincome  \\\n",
       "0       2       57                       1         1          1          14.0   \n",
       "1       1       54                       3         1          1          11.0   \n",
       "2       1       37                       1         1          1          13.0   \n",
       "3       1       66                       1         1          1          14.0   \n",
       "4       1       55                       1         1          1          14.0   \n",
       "\n",
       "   doyouwork  highesteducation  statereside  ethnicity  pct_today  \n",
       "0        1.0                13           32        1.0       50.0  \n",
       "1        1.0                 9           48        1.0        5.0  \n",
       "2        1.0                10            8        1.0       10.0  \n",
       "3        1.0                13            5        1.0       60.0  \n",
       "4        1.0                10           30        1.0       85.0  "
      ]
     },
     "execution_count": 19,
     "metadata": {},
     "output_type": "execute_result"
    }
   ],
   "source": [
    "df.head()"
   ]
  },
  {
   "cell_type": "code",
   "execution_count": 20,
   "id": "fc2a4c2c",
   "metadata": {},
   "outputs": [],
   "source": [
    "#convert pct_today to a binary variable\n",
    "df.loc[df.pct_today > 0,'pct_today'] = 1"
   ]
  },
  {
   "cell_type": "code",
   "execution_count": 21,
   "id": "b0b9193c",
   "metadata": {},
   "outputs": [
    {
     "data": {
      "text/plain": [
       "1.0    648\n",
       "0.0    378\n",
       "Name: pct_today, dtype: int64"
      ]
     },
     "execution_count": 21,
     "metadata": {},
     "output_type": "execute_result"
    }
   ],
   "source": [
    "df.pct_today.value_counts()"
   ]
  },
  {
   "cell_type": "code",
   "execution_count": 22,
   "id": "e42a5825",
   "metadata": {},
   "outputs": [
    {
     "data": {
      "text/html": [
       "<div>\n",
       "<style scoped>\n",
       "    .dataframe tbody tr th:only-of-type {\n",
       "        vertical-align: middle;\n",
       "    }\n",
       "\n",
       "    .dataframe tbody tr th {\n",
       "        vertical-align: top;\n",
       "    }\n",
       "\n",
       "    .dataframe thead th {\n",
       "        text-align: right;\n",
       "    }\n",
       "</style>\n",
       "<table border=\"1\" class=\"dataframe\">\n",
       "  <thead>\n",
       "    <tr style=\"text-align: right;\">\n",
       "      <th></th>\n",
       "      <th>gender</th>\n",
       "      <th>calcage</th>\n",
       "      <th>currentlivingsituation</th>\n",
       "      <th>borninus</th>\n",
       "      <th>citizenus</th>\n",
       "      <th>familyincome</th>\n",
       "      <th>doyouwork</th>\n",
       "      <th>highesteducation</th>\n",
       "      <th>statereside</th>\n",
       "      <th>ethnicity</th>\n",
       "      <th>pct_today</th>\n",
       "    </tr>\n",
       "  </thead>\n",
       "  <tbody>\n",
       "    <tr>\n",
       "      <th>0</th>\n",
       "      <td>2</td>\n",
       "      <td>57</td>\n",
       "      <td>1</td>\n",
       "      <td>1</td>\n",
       "      <td>1</td>\n",
       "      <td>14.0</td>\n",
       "      <td>1.0</td>\n",
       "      <td>13</td>\n",
       "      <td>32</td>\n",
       "      <td>1.0</td>\n",
       "      <td>1.0</td>\n",
       "    </tr>\n",
       "    <tr>\n",
       "      <th>1</th>\n",
       "      <td>1</td>\n",
       "      <td>54</td>\n",
       "      <td>3</td>\n",
       "      <td>1</td>\n",
       "      <td>1</td>\n",
       "      <td>11.0</td>\n",
       "      <td>1.0</td>\n",
       "      <td>9</td>\n",
       "      <td>48</td>\n",
       "      <td>1.0</td>\n",
       "      <td>1.0</td>\n",
       "    </tr>\n",
       "    <tr>\n",
       "      <th>2</th>\n",
       "      <td>1</td>\n",
       "      <td>37</td>\n",
       "      <td>1</td>\n",
       "      <td>1</td>\n",
       "      <td>1</td>\n",
       "      <td>13.0</td>\n",
       "      <td>1.0</td>\n",
       "      <td>10</td>\n",
       "      <td>8</td>\n",
       "      <td>1.0</td>\n",
       "      <td>1.0</td>\n",
       "    </tr>\n",
       "    <tr>\n",
       "      <th>3</th>\n",
       "      <td>1</td>\n",
       "      <td>66</td>\n",
       "      <td>1</td>\n",
       "      <td>1</td>\n",
       "      <td>1</td>\n",
       "      <td>14.0</td>\n",
       "      <td>1.0</td>\n",
       "      <td>13</td>\n",
       "      <td>5</td>\n",
       "      <td>1.0</td>\n",
       "      <td>1.0</td>\n",
       "    </tr>\n",
       "    <tr>\n",
       "      <th>4</th>\n",
       "      <td>1</td>\n",
       "      <td>55</td>\n",
       "      <td>1</td>\n",
       "      <td>1</td>\n",
       "      <td>1</td>\n",
       "      <td>14.0</td>\n",
       "      <td>1.0</td>\n",
       "      <td>10</td>\n",
       "      <td>30</td>\n",
       "      <td>1.0</td>\n",
       "      <td>1.0</td>\n",
       "    </tr>\n",
       "  </tbody>\n",
       "</table>\n",
       "</div>"
      ],
      "text/plain": [
       "   gender  calcage  currentlivingsituation  borninus  citizenus  familyincome  \\\n",
       "0       2       57                       1         1          1          14.0   \n",
       "1       1       54                       3         1          1          11.0   \n",
       "2       1       37                       1         1          1          13.0   \n",
       "3       1       66                       1         1          1          14.0   \n",
       "4       1       55                       1         1          1          14.0   \n",
       "\n",
       "   doyouwork  highesteducation  statereside  ethnicity  pct_today  \n",
       "0        1.0                13           32        1.0        1.0  \n",
       "1        1.0                 9           48        1.0        1.0  \n",
       "2        1.0                10            8        1.0        1.0  \n",
       "3        1.0                13            5        1.0        1.0  \n",
       "4        1.0                10           30        1.0        1.0  "
      ]
     },
     "execution_count": 22,
     "metadata": {},
     "output_type": "execute_result"
    }
   ],
   "source": [
    "df.head()"
   ]
  },
  {
   "cell_type": "code",
   "execution_count": 25,
   "id": "58a82600",
   "metadata": {},
   "outputs": [],
   "source": [
    "df2 = df[['calcage', 'familyincome', 'highesteducation', 'pct_today']].copy()"
   ]
  },
  {
   "cell_type": "code",
   "execution_count": 26,
   "id": "fdb0b533",
   "metadata": {},
   "outputs": [
    {
     "data": {
      "text/html": [
       "<div>\n",
       "<style scoped>\n",
       "    .dataframe tbody tr th:only-of-type {\n",
       "        vertical-align: middle;\n",
       "    }\n",
       "\n",
       "    .dataframe tbody tr th {\n",
       "        vertical-align: top;\n",
       "    }\n",
       "\n",
       "    .dataframe thead th {\n",
       "        text-align: right;\n",
       "    }\n",
       "</style>\n",
       "<table border=\"1\" class=\"dataframe\">\n",
       "  <thead>\n",
       "    <tr style=\"text-align: right;\">\n",
       "      <th></th>\n",
       "      <th>calcage</th>\n",
       "      <th>familyincome</th>\n",
       "      <th>highesteducation</th>\n",
       "      <th>pct_today</th>\n",
       "    </tr>\n",
       "  </thead>\n",
       "  <tbody>\n",
       "    <tr>\n",
       "      <th>0</th>\n",
       "      <td>57</td>\n",
       "      <td>14.0</td>\n",
       "      <td>13</td>\n",
       "      <td>1.0</td>\n",
       "    </tr>\n",
       "    <tr>\n",
       "      <th>1</th>\n",
       "      <td>54</td>\n",
       "      <td>11.0</td>\n",
       "      <td>9</td>\n",
       "      <td>1.0</td>\n",
       "    </tr>\n",
       "    <tr>\n",
       "      <th>2</th>\n",
       "      <td>37</td>\n",
       "      <td>13.0</td>\n",
       "      <td>10</td>\n",
       "      <td>1.0</td>\n",
       "    </tr>\n",
       "    <tr>\n",
       "      <th>3</th>\n",
       "      <td>66</td>\n",
       "      <td>14.0</td>\n",
       "      <td>13</td>\n",
       "      <td>1.0</td>\n",
       "    </tr>\n",
       "    <tr>\n",
       "      <th>4</th>\n",
       "      <td>55</td>\n",
       "      <td>14.0</td>\n",
       "      <td>10</td>\n",
       "      <td>1.0</td>\n",
       "    </tr>\n",
       "    <tr>\n",
       "      <th>...</th>\n",
       "      <td>...</td>\n",
       "      <td>...</td>\n",
       "      <td>...</td>\n",
       "      <td>...</td>\n",
       "    </tr>\n",
       "    <tr>\n",
       "      <th>1247</th>\n",
       "      <td>57</td>\n",
       "      <td>14.0</td>\n",
       "      <td>14</td>\n",
       "      <td>1.0</td>\n",
       "    </tr>\n",
       "    <tr>\n",
       "      <th>1250</th>\n",
       "      <td>67</td>\n",
       "      <td>13.0</td>\n",
       "      <td>13</td>\n",
       "      <td>1.0</td>\n",
       "    </tr>\n",
       "    <tr>\n",
       "      <th>1252</th>\n",
       "      <td>49</td>\n",
       "      <td>7.0</td>\n",
       "      <td>11</td>\n",
       "      <td>1.0</td>\n",
       "    </tr>\n",
       "    <tr>\n",
       "      <th>1253</th>\n",
       "      <td>54</td>\n",
       "      <td>2.0</td>\n",
       "      <td>7</td>\n",
       "      <td>0.0</td>\n",
       "    </tr>\n",
       "    <tr>\n",
       "      <th>1254</th>\n",
       "      <td>77</td>\n",
       "      <td>12.0</td>\n",
       "      <td>10</td>\n",
       "      <td>1.0</td>\n",
       "    </tr>\n",
       "  </tbody>\n",
       "</table>\n",
       "<p>1026 rows × 4 columns</p>\n",
       "</div>"
      ],
      "text/plain": [
       "      calcage  familyincome  highesteducation  pct_today\n",
       "0          57          14.0                13        1.0\n",
       "1          54          11.0                 9        1.0\n",
       "2          37          13.0                10        1.0\n",
       "3          66          14.0                13        1.0\n",
       "4          55          14.0                10        1.0\n",
       "...       ...           ...               ...        ...\n",
       "1247       57          14.0                14        1.0\n",
       "1250       67          13.0                13        1.0\n",
       "1252       49           7.0                11        1.0\n",
       "1253       54           2.0                 7        0.0\n",
       "1254       77          12.0                10        1.0\n",
       "\n",
       "[1026 rows x 4 columns]"
      ]
     },
     "execution_count": 26,
     "metadata": {},
     "output_type": "execute_result"
    }
   ],
   "source": [
    "df2"
   ]
  },
  {
   "cell_type": "code",
   "execution_count": 51,
   "id": "db62ef82",
   "metadata": {},
   "outputs": [],
   "source": [
    "#Normalize\n",
    "df2.dropna(inplace = True)\n",
    "\n",
    "from sklearn.model_selection import train_test_split\n",
    "\n",
    "X = df2.iloc[:,:-1]\n",
    "y = df2.iloc[:,-1]\n",
    "\n",
    "X_train, X_test, y_train, y_test = train_test_split(X,y, test_size = 0.3, random_state = 0)\n"
   ]
  },
  {
   "cell_type": "code",
   "execution_count": 52,
   "id": "3973c86e",
   "metadata": {},
   "outputs": [
    {
     "data": {
      "text/plain": [
       "972     1.0\n",
       "29      1.0\n",
       "87      0.0\n",
       "737     0.0\n",
       "379     0.0\n",
       "       ... \n",
       "919     0.0\n",
       "1195    1.0\n",
       "861     1.0\n",
       "194     0.0\n",
       "1124    1.0\n",
       "Name: pct_today, Length: 307, dtype: float32"
      ]
     },
     "execution_count": 52,
     "metadata": {},
     "output_type": "execute_result"
    }
   ],
   "source": [
    "y_test"
   ]
  },
  {
   "cell_type": "code",
   "execution_count": 53,
   "id": "26eb4b56",
   "metadata": {},
   "outputs": [],
   "source": [
    "#Normalize\n",
    "from sklearn import preprocessing\n",
    "\n",
    "columns = df2.columns\n",
    "mm_scaler = preprocessing.MinMaxScaler()\n",
    "X_train = mm_scaler.fit_transform(X_train)\n",
    "X_test = mm_scaler.fit_transform(X_test)\n",
    "\n",
    "#df_scaled = pd.DataFrame(df_scaled, columns = columns)\n",
    "\n",
    "# scaler = MinMaxScaler()\n",
    "# scaler.fit(X_train)\n",
    "# X_train = scaler.transform(X_train)\n",
    "# X_test = scaler.transform(X_test)\n",
    "\n",
    "# model = LogisticRegression()\n",
    "# model.fit(X_train, y_train)\n",
    "# y_pred = model.predict(X_test)"
   ]
  },
  {
   "cell_type": "code",
   "execution_count": 54,
   "id": "de56796f",
   "metadata": {},
   "outputs": [
    {
     "data": {
      "text/plain": [
       "LogisticRegression()"
      ]
     },
     "execution_count": 54,
     "metadata": {},
     "output_type": "execute_result"
    }
   ],
   "source": [
    "from sklearn.linear_model import LogisticRegression\n",
    "model = LogisticRegression()\n",
    "model.fit(X_train, y_train)\n",
    "y_pred = model.predict(X_test)"
   ]
  },
  {
   "cell_type": "code",
   "execution_count": 56,
   "id": "b5c8cc78",
   "metadata": {},
   "outputs": [
    {
     "data": {
      "text/plain": [
       "0.7882736156351792"
      ]
     },
     "execution_count": 56,
     "metadata": {},
     "output_type": "execute_result"
    }
   ],
   "source": [
    "#Metrics\n",
    "model.score(X_test,y_test)"
   ]
  },
  {
   "cell_type": "code",
   "execution_count": 57,
   "id": "3c81ca20",
   "metadata": {},
   "outputs": [
    {
     "data": {
      "text/plain": [
       "0.7748251748251749"
      ]
     },
     "execution_count": 57,
     "metadata": {},
     "output_type": "execute_result"
    }
   ],
   "source": [
    "model.score(X_train,y_train)"
   ]
  },
  {
   "cell_type": "code",
   "execution_count": 58,
   "id": "d6741ca3",
   "metadata": {},
   "outputs": [
    {
     "data": {
      "text/html": [
       "<div>\n",
       "<style scoped>\n",
       "    .dataframe tbody tr th:only-of-type {\n",
       "        vertical-align: middle;\n",
       "    }\n",
       "\n",
       "    .dataframe tbody tr th {\n",
       "        vertical-align: top;\n",
       "    }\n",
       "\n",
       "    .dataframe thead th {\n",
       "        text-align: right;\n",
       "    }\n",
       "</style>\n",
       "<table border=\"1\" class=\"dataframe\">\n",
       "  <thead>\n",
       "    <tr style=\"text-align: right;\">\n",
       "      <th></th>\n",
       "      <th>gender</th>\n",
       "      <th>calcage</th>\n",
       "      <th>currentlivingsituation</th>\n",
       "      <th>borninus</th>\n",
       "      <th>citizenus</th>\n",
       "      <th>familyincome</th>\n",
       "      <th>doyouwork</th>\n",
       "      <th>highesteducation</th>\n",
       "      <th>statereside</th>\n",
       "      <th>ethnicity</th>\n",
       "      <th>pct_today</th>\n",
       "    </tr>\n",
       "  </thead>\n",
       "  <tbody>\n",
       "    <tr>\n",
       "      <th>0</th>\n",
       "      <td>2</td>\n",
       "      <td>57</td>\n",
       "      <td>1</td>\n",
       "      <td>1</td>\n",
       "      <td>1</td>\n",
       "      <td>14.0</td>\n",
       "      <td>1.0</td>\n",
       "      <td>13</td>\n",
       "      <td>32</td>\n",
       "      <td>1.0</td>\n",
       "      <td>1.0</td>\n",
       "    </tr>\n",
       "    <tr>\n",
       "      <th>1</th>\n",
       "      <td>1</td>\n",
       "      <td>54</td>\n",
       "      <td>3</td>\n",
       "      <td>1</td>\n",
       "      <td>1</td>\n",
       "      <td>11.0</td>\n",
       "      <td>1.0</td>\n",
       "      <td>9</td>\n",
       "      <td>48</td>\n",
       "      <td>1.0</td>\n",
       "      <td>1.0</td>\n",
       "    </tr>\n",
       "    <tr>\n",
       "      <th>2</th>\n",
       "      <td>1</td>\n",
       "      <td>37</td>\n",
       "      <td>1</td>\n",
       "      <td>1</td>\n",
       "      <td>1</td>\n",
       "      <td>13.0</td>\n",
       "      <td>1.0</td>\n",
       "      <td>10</td>\n",
       "      <td>8</td>\n",
       "      <td>1.0</td>\n",
       "      <td>1.0</td>\n",
       "    </tr>\n",
       "    <tr>\n",
       "      <th>3</th>\n",
       "      <td>1</td>\n",
       "      <td>66</td>\n",
       "      <td>1</td>\n",
       "      <td>1</td>\n",
       "      <td>1</td>\n",
       "      <td>14.0</td>\n",
       "      <td>1.0</td>\n",
       "      <td>13</td>\n",
       "      <td>5</td>\n",
       "      <td>1.0</td>\n",
       "      <td>1.0</td>\n",
       "    </tr>\n",
       "    <tr>\n",
       "      <th>4</th>\n",
       "      <td>1</td>\n",
       "      <td>55</td>\n",
       "      <td>1</td>\n",
       "      <td>1</td>\n",
       "      <td>1</td>\n",
       "      <td>14.0</td>\n",
       "      <td>1.0</td>\n",
       "      <td>10</td>\n",
       "      <td>30</td>\n",
       "      <td>1.0</td>\n",
       "      <td>1.0</td>\n",
       "    </tr>\n",
       "  </tbody>\n",
       "</table>\n",
       "</div>"
      ],
      "text/plain": [
       "   gender  calcage  currentlivingsituation  borninus  citizenus  familyincome  \\\n",
       "0       2       57                       1         1          1          14.0   \n",
       "1       1       54                       3         1          1          11.0   \n",
       "2       1       37                       1         1          1          13.0   \n",
       "3       1       66                       1         1          1          14.0   \n",
       "4       1       55                       1         1          1          14.0   \n",
       "\n",
       "   doyouwork  highesteducation  statereside  ethnicity  pct_today  \n",
       "0        1.0                13           32        1.0        1.0  \n",
       "1        1.0                 9           48        1.0        1.0  \n",
       "2        1.0                10            8        1.0        1.0  \n",
       "3        1.0                13            5        1.0        1.0  \n",
       "4        1.0                10           30        1.0        1.0  "
      ]
     },
     "execution_count": 58,
     "metadata": {},
     "output_type": "execute_result"
    }
   ],
   "source": [
    "df.head()"
   ]
  },
  {
   "cell_type": "code",
   "execution_count": 60,
   "id": "7203b337",
   "metadata": {},
   "outputs": [],
   "source": [
    "df.gender = df.gender.map({2:'Female', 1: 'Male'})"
   ]
  },
  {
   "cell_type": "code",
   "execution_count": 61,
   "id": "2c7f57d3",
   "metadata": {},
   "outputs": [
    {
     "data": {
      "text/html": [
       "<div>\n",
       "<style scoped>\n",
       "    .dataframe tbody tr th:only-of-type {\n",
       "        vertical-align: middle;\n",
       "    }\n",
       "\n",
       "    .dataframe tbody tr th {\n",
       "        vertical-align: top;\n",
       "    }\n",
       "\n",
       "    .dataframe thead th {\n",
       "        text-align: right;\n",
       "    }\n",
       "</style>\n",
       "<table border=\"1\" class=\"dataframe\">\n",
       "  <thead>\n",
       "    <tr style=\"text-align: right;\">\n",
       "      <th></th>\n",
       "      <th>gender</th>\n",
       "      <th>calcage</th>\n",
       "      <th>currentlivingsituation</th>\n",
       "      <th>borninus</th>\n",
       "      <th>citizenus</th>\n",
       "      <th>familyincome</th>\n",
       "      <th>doyouwork</th>\n",
       "      <th>highesteducation</th>\n",
       "      <th>statereside</th>\n",
       "      <th>ethnicity</th>\n",
       "      <th>pct_today</th>\n",
       "    </tr>\n",
       "  </thead>\n",
       "  <tbody>\n",
       "    <tr>\n",
       "      <th>0</th>\n",
       "      <td>Female</td>\n",
       "      <td>57</td>\n",
       "      <td>1</td>\n",
       "      <td>1</td>\n",
       "      <td>1</td>\n",
       "      <td>14.0</td>\n",
       "      <td>1.0</td>\n",
       "      <td>13</td>\n",
       "      <td>32</td>\n",
       "      <td>1.0</td>\n",
       "      <td>1.0</td>\n",
       "    </tr>\n",
       "    <tr>\n",
       "      <th>1</th>\n",
       "      <td>Male</td>\n",
       "      <td>54</td>\n",
       "      <td>3</td>\n",
       "      <td>1</td>\n",
       "      <td>1</td>\n",
       "      <td>11.0</td>\n",
       "      <td>1.0</td>\n",
       "      <td>9</td>\n",
       "      <td>48</td>\n",
       "      <td>1.0</td>\n",
       "      <td>1.0</td>\n",
       "    </tr>\n",
       "    <tr>\n",
       "      <th>2</th>\n",
       "      <td>Male</td>\n",
       "      <td>37</td>\n",
       "      <td>1</td>\n",
       "      <td>1</td>\n",
       "      <td>1</td>\n",
       "      <td>13.0</td>\n",
       "      <td>1.0</td>\n",
       "      <td>10</td>\n",
       "      <td>8</td>\n",
       "      <td>1.0</td>\n",
       "      <td>1.0</td>\n",
       "    </tr>\n",
       "    <tr>\n",
       "      <th>3</th>\n",
       "      <td>Male</td>\n",
       "      <td>66</td>\n",
       "      <td>1</td>\n",
       "      <td>1</td>\n",
       "      <td>1</td>\n",
       "      <td>14.0</td>\n",
       "      <td>1.0</td>\n",
       "      <td>13</td>\n",
       "      <td>5</td>\n",
       "      <td>1.0</td>\n",
       "      <td>1.0</td>\n",
       "    </tr>\n",
       "    <tr>\n",
       "      <th>4</th>\n",
       "      <td>Male</td>\n",
       "      <td>55</td>\n",
       "      <td>1</td>\n",
       "      <td>1</td>\n",
       "      <td>1</td>\n",
       "      <td>14.0</td>\n",
       "      <td>1.0</td>\n",
       "      <td>10</td>\n",
       "      <td>30</td>\n",
       "      <td>1.0</td>\n",
       "      <td>1.0</td>\n",
       "    </tr>\n",
       "  </tbody>\n",
       "</table>\n",
       "</div>"
      ],
      "text/plain": [
       "   gender  calcage  currentlivingsituation  borninus  citizenus  familyincome  \\\n",
       "0  Female       57                       1         1          1          14.0   \n",
       "1    Male       54                       3         1          1          11.0   \n",
       "2    Male       37                       1         1          1          13.0   \n",
       "3    Male       66                       1         1          1          14.0   \n",
       "4    Male       55                       1         1          1          14.0   \n",
       "\n",
       "   doyouwork  highesteducation  statereside  ethnicity  pct_today  \n",
       "0        1.0                13           32        1.0        1.0  \n",
       "1        1.0                 9           48        1.0        1.0  \n",
       "2        1.0                10            8        1.0        1.0  \n",
       "3        1.0                13            5        1.0        1.0  \n",
       "4        1.0                10           30        1.0        1.0  "
      ]
     },
     "execution_count": 61,
     "metadata": {},
     "output_type": "execute_result"
    }
   ],
   "source": [
    "df.head()"
   ]
  },
  {
   "cell_type": "code",
   "execution_count": 62,
   "id": "ea2418fc",
   "metadata": {},
   "outputs": [
    {
     "data": {
      "text/html": [
       "<div>\n",
       "<style scoped>\n",
       "    .dataframe tbody tr th:only-of-type {\n",
       "        vertical-align: middle;\n",
       "    }\n",
       "\n",
       "    .dataframe tbody tr th {\n",
       "        vertical-align: top;\n",
       "    }\n",
       "\n",
       "    .dataframe thead th {\n",
       "        text-align: right;\n",
       "    }\n",
       "</style>\n",
       "<table border=\"1\" class=\"dataframe\">\n",
       "  <thead>\n",
       "    <tr style=\"text-align: right;\">\n",
       "      <th></th>\n",
       "      <th>calcage</th>\n",
       "      <th>familyincome</th>\n",
       "      <th>highesteducation</th>\n",
       "      <th>pct_today</th>\n",
       "    </tr>\n",
       "  </thead>\n",
       "  <tbody>\n",
       "    <tr>\n",
       "      <th>0</th>\n",
       "      <td>57</td>\n",
       "      <td>14.0</td>\n",
       "      <td>13</td>\n",
       "      <td>1.0</td>\n",
       "    </tr>\n",
       "    <tr>\n",
       "      <th>1</th>\n",
       "      <td>54</td>\n",
       "      <td>11.0</td>\n",
       "      <td>9</td>\n",
       "      <td>1.0</td>\n",
       "    </tr>\n",
       "    <tr>\n",
       "      <th>2</th>\n",
       "      <td>37</td>\n",
       "      <td>13.0</td>\n",
       "      <td>10</td>\n",
       "      <td>1.0</td>\n",
       "    </tr>\n",
       "    <tr>\n",
       "      <th>3</th>\n",
       "      <td>66</td>\n",
       "      <td>14.0</td>\n",
       "      <td>13</td>\n",
       "      <td>1.0</td>\n",
       "    </tr>\n",
       "    <tr>\n",
       "      <th>4</th>\n",
       "      <td>55</td>\n",
       "      <td>14.0</td>\n",
       "      <td>10</td>\n",
       "      <td>1.0</td>\n",
       "    </tr>\n",
       "    <tr>\n",
       "      <th>...</th>\n",
       "      <td>...</td>\n",
       "      <td>...</td>\n",
       "      <td>...</td>\n",
       "      <td>...</td>\n",
       "    </tr>\n",
       "    <tr>\n",
       "      <th>1247</th>\n",
       "      <td>57</td>\n",
       "      <td>14.0</td>\n",
       "      <td>14</td>\n",
       "      <td>1.0</td>\n",
       "    </tr>\n",
       "    <tr>\n",
       "      <th>1250</th>\n",
       "      <td>67</td>\n",
       "      <td>13.0</td>\n",
       "      <td>13</td>\n",
       "      <td>1.0</td>\n",
       "    </tr>\n",
       "    <tr>\n",
       "      <th>1252</th>\n",
       "      <td>49</td>\n",
       "      <td>7.0</td>\n",
       "      <td>11</td>\n",
       "      <td>1.0</td>\n",
       "    </tr>\n",
       "    <tr>\n",
       "      <th>1253</th>\n",
       "      <td>54</td>\n",
       "      <td>2.0</td>\n",
       "      <td>7</td>\n",
       "      <td>0.0</td>\n",
       "    </tr>\n",
       "    <tr>\n",
       "      <th>1254</th>\n",
       "      <td>77</td>\n",
       "      <td>12.0</td>\n",
       "      <td>10</td>\n",
       "      <td>1.0</td>\n",
       "    </tr>\n",
       "  </tbody>\n",
       "</table>\n",
       "<p>1022 rows × 4 columns</p>\n",
       "</div>"
      ],
      "text/plain": [
       "      calcage  familyincome  highesteducation  pct_today\n",
       "0          57          14.0                13        1.0\n",
       "1          54          11.0                 9        1.0\n",
       "2          37          13.0                10        1.0\n",
       "3          66          14.0                13        1.0\n",
       "4          55          14.0                10        1.0\n",
       "...       ...           ...               ...        ...\n",
       "1247       57          14.0                14        1.0\n",
       "1250       67          13.0                13        1.0\n",
       "1252       49           7.0                11        1.0\n",
       "1253       54           2.0                 7        0.0\n",
       "1254       77          12.0                10        1.0\n",
       "\n",
       "[1022 rows x 4 columns]"
      ]
     },
     "execution_count": 62,
     "metadata": {},
     "output_type": "execute_result"
    }
   ],
   "source": [
    "df2"
   ]
  },
  {
   "cell_type": "code",
   "execution_count": 63,
   "id": "08d3fe83",
   "metadata": {},
   "outputs": [
    {
     "data": {
      "text/html": [
       "<div>\n",
       "<style scoped>\n",
       "    .dataframe tbody tr th:only-of-type {\n",
       "        vertical-align: middle;\n",
       "    }\n",
       "\n",
       "    .dataframe tbody tr th {\n",
       "        vertical-align: top;\n",
       "    }\n",
       "\n",
       "    .dataframe thead th {\n",
       "        text-align: right;\n",
       "    }\n",
       "</style>\n",
       "<table border=\"1\" class=\"dataframe\">\n",
       "  <thead>\n",
       "    <tr style=\"text-align: right;\">\n",
       "      <th></th>\n",
       "      <th>gender</th>\n",
       "      <th>calcage</th>\n",
       "      <th>currentlivingsituation</th>\n",
       "      <th>borninus</th>\n",
       "      <th>citizenus</th>\n",
       "      <th>familyincome</th>\n",
       "      <th>doyouwork</th>\n",
       "      <th>highesteducation</th>\n",
       "      <th>statereside</th>\n",
       "      <th>ethnicity</th>\n",
       "      <th>pct_today</th>\n",
       "    </tr>\n",
       "  </thead>\n",
       "  <tbody>\n",
       "    <tr>\n",
       "      <th>0</th>\n",
       "      <td>Female</td>\n",
       "      <td>57</td>\n",
       "      <td>1</td>\n",
       "      <td>1</td>\n",
       "      <td>1</td>\n",
       "      <td>14.0</td>\n",
       "      <td>1.0</td>\n",
       "      <td>13</td>\n",
       "      <td>32</td>\n",
       "      <td>1.0</td>\n",
       "      <td>1.0</td>\n",
       "    </tr>\n",
       "    <tr>\n",
       "      <th>1</th>\n",
       "      <td>Male</td>\n",
       "      <td>54</td>\n",
       "      <td>3</td>\n",
       "      <td>1</td>\n",
       "      <td>1</td>\n",
       "      <td>11.0</td>\n",
       "      <td>1.0</td>\n",
       "      <td>9</td>\n",
       "      <td>48</td>\n",
       "      <td>1.0</td>\n",
       "      <td>1.0</td>\n",
       "    </tr>\n",
       "    <tr>\n",
       "      <th>2</th>\n",
       "      <td>Male</td>\n",
       "      <td>37</td>\n",
       "      <td>1</td>\n",
       "      <td>1</td>\n",
       "      <td>1</td>\n",
       "      <td>13.0</td>\n",
       "      <td>1.0</td>\n",
       "      <td>10</td>\n",
       "      <td>8</td>\n",
       "      <td>1.0</td>\n",
       "      <td>1.0</td>\n",
       "    </tr>\n",
       "    <tr>\n",
       "      <th>3</th>\n",
       "      <td>Male</td>\n",
       "      <td>66</td>\n",
       "      <td>1</td>\n",
       "      <td>1</td>\n",
       "      <td>1</td>\n",
       "      <td>14.0</td>\n",
       "      <td>1.0</td>\n",
       "      <td>13</td>\n",
       "      <td>5</td>\n",
       "      <td>1.0</td>\n",
       "      <td>1.0</td>\n",
       "    </tr>\n",
       "    <tr>\n",
       "      <th>4</th>\n",
       "      <td>Male</td>\n",
       "      <td>55</td>\n",
       "      <td>1</td>\n",
       "      <td>1</td>\n",
       "      <td>1</td>\n",
       "      <td>14.0</td>\n",
       "      <td>1.0</td>\n",
       "      <td>10</td>\n",
       "      <td>30</td>\n",
       "      <td>1.0</td>\n",
       "      <td>1.0</td>\n",
       "    </tr>\n",
       "    <tr>\n",
       "      <th>...</th>\n",
       "      <td>...</td>\n",
       "      <td>...</td>\n",
       "      <td>...</td>\n",
       "      <td>...</td>\n",
       "      <td>...</td>\n",
       "      <td>...</td>\n",
       "      <td>...</td>\n",
       "      <td>...</td>\n",
       "      <td>...</td>\n",
       "      <td>...</td>\n",
       "      <td>...</td>\n",
       "    </tr>\n",
       "    <tr>\n",
       "      <th>1247</th>\n",
       "      <td>Female</td>\n",
       "      <td>57</td>\n",
       "      <td>1</td>\n",
       "      <td>1</td>\n",
       "      <td>1</td>\n",
       "      <td>14.0</td>\n",
       "      <td>1.0</td>\n",
       "      <td>14</td>\n",
       "      <td>46</td>\n",
       "      <td>1.0</td>\n",
       "      <td>1.0</td>\n",
       "    </tr>\n",
       "    <tr>\n",
       "      <th>1250</th>\n",
       "      <td>Female</td>\n",
       "      <td>67</td>\n",
       "      <td>1</td>\n",
       "      <td>1</td>\n",
       "      <td>1</td>\n",
       "      <td>13.0</td>\n",
       "      <td>1.0</td>\n",
       "      <td>13</td>\n",
       "      <td>5</td>\n",
       "      <td>1.0</td>\n",
       "      <td>1.0</td>\n",
       "    </tr>\n",
       "    <tr>\n",
       "      <th>1252</th>\n",
       "      <td>Female</td>\n",
       "      <td>49</td>\n",
       "      <td>3</td>\n",
       "      <td>2</td>\n",
       "      <td>1</td>\n",
       "      <td>7.0</td>\n",
       "      <td>1.0</td>\n",
       "      <td>11</td>\n",
       "      <td>5</td>\n",
       "      <td>1.0</td>\n",
       "      <td>1.0</td>\n",
       "    </tr>\n",
       "    <tr>\n",
       "      <th>1253</th>\n",
       "      <td>Female</td>\n",
       "      <td>54</td>\n",
       "      <td>3</td>\n",
       "      <td>1</td>\n",
       "      <td>1</td>\n",
       "      <td>2.0</td>\n",
       "      <td>NaN</td>\n",
       "      <td>7</td>\n",
       "      <td>9</td>\n",
       "      <td>1.0</td>\n",
       "      <td>0.0</td>\n",
       "    </tr>\n",
       "    <tr>\n",
       "      <th>1254</th>\n",
       "      <td>Female</td>\n",
       "      <td>77</td>\n",
       "      <td>1</td>\n",
       "      <td>1</td>\n",
       "      <td>1</td>\n",
       "      <td>12.0</td>\n",
       "      <td>NaN</td>\n",
       "      <td>10</td>\n",
       "      <td>43</td>\n",
       "      <td>1.0</td>\n",
       "      <td>1.0</td>\n",
       "    </tr>\n",
       "  </tbody>\n",
       "</table>\n",
       "<p>1026 rows × 11 columns</p>\n",
       "</div>"
      ],
      "text/plain": [
       "      gender  calcage  currentlivingsituation  borninus  citizenus  \\\n",
       "0     Female       57                       1         1          1   \n",
       "1       Male       54                       3         1          1   \n",
       "2       Male       37                       1         1          1   \n",
       "3       Male       66                       1         1          1   \n",
       "4       Male       55                       1         1          1   \n",
       "...      ...      ...                     ...       ...        ...   \n",
       "1247  Female       57                       1         1          1   \n",
       "1250  Female       67                       1         1          1   \n",
       "1252  Female       49                       3         2          1   \n",
       "1253  Female       54                       3         1          1   \n",
       "1254  Female       77                       1         1          1   \n",
       "\n",
       "      familyincome  doyouwork  highesteducation  statereside  ethnicity  \\\n",
       "0             14.0        1.0                13           32        1.0   \n",
       "1             11.0        1.0                 9           48        1.0   \n",
       "2             13.0        1.0                10            8        1.0   \n",
       "3             14.0        1.0                13            5        1.0   \n",
       "4             14.0        1.0                10           30        1.0   \n",
       "...            ...        ...               ...          ...        ...   \n",
       "1247          14.0        1.0                14           46        1.0   \n",
       "1250          13.0        1.0                13            5        1.0   \n",
       "1252           7.0        1.0                11            5        1.0   \n",
       "1253           2.0        NaN                 7            9        1.0   \n",
       "1254          12.0        NaN                10           43        1.0   \n",
       "\n",
       "      pct_today  \n",
       "0           1.0  \n",
       "1           1.0  \n",
       "2           1.0  \n",
       "3           1.0  \n",
       "4           1.0  \n",
       "...         ...  \n",
       "1247        1.0  \n",
       "1250        1.0  \n",
       "1252        1.0  \n",
       "1253        0.0  \n",
       "1254        1.0  \n",
       "\n",
       "[1026 rows x 11 columns]"
      ]
     },
     "execution_count": 63,
     "metadata": {},
     "output_type": "execute_result"
    }
   ],
   "source": [
    "df.replace({'snake':'python'})"
   ]
  },
  {
   "cell_type": "code",
   "execution_count": null,
   "id": "370cd23f",
   "metadata": {},
   "outputs": [],
   "source": [
    "'\\t'"
   ]
  }
 ],
 "metadata": {
  "kernelspec": {
   "display_name": "Python 3",
   "language": "python",
   "name": "python3"
  },
  "language_info": {
   "codemirror_mode": {
    "name": "ipython",
    "version": 3
   },
   "file_extension": ".py",
   "mimetype": "text/x-python",
   "name": "python",
   "nbconvert_exporter": "python",
   "pygments_lexer": "ipython3",
   "version": "3.8.5"
  }
 },
 "nbformat": 4,
 "nbformat_minor": 5
}
